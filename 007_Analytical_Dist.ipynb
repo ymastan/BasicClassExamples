{
 "cells": [
  {
   "cell_type": "code",
<<<<<<< HEAD
   "execution_count": 1,
   "metadata": {},
   "outputs": [],
=======
   "execution_count": 142,
>>>>>>> cdb71a1e19e394a1941e014f43344babc9414140
   "source": [
    "import pandas as pd\r\n",
    "import numpy as np\r\n",
    "import thinkplot\r\n",
    "import thinkstats2\r\n",
    "import math"
   ]
  },
  {
   "cell_type": "code",
<<<<<<< HEAD
   "execution_count": 2,
   "metadata": {},
   "outputs": [
    {
     "data": {
      "text/html": [
       "<div>\n",
       "<style scoped>\n",
       "    .dataframe tbody tr th:only-of-type {\n",
       "        vertical-align: middle;\n",
       "    }\n",
       "\n",
       "    .dataframe tbody tr th {\n",
       "        vertical-align: top;\n",
       "    }\n",
       "\n",
       "    .dataframe thead th {\n",
       "        text-align: right;\n",
       "    }\n",
       "</style>\n",
       "<table border=\"1\" class=\"dataframe\">\n",
       "  <thead>\n",
       "    <tr style=\"text-align: right;\">\n",
       "      <th></th>\n",
       "      <th>Date</th>\n",
       "      <th>Close</th>\n",
       "    </tr>\n",
       "  </thead>\n",
       "  <tbody>\n",
       "    <tr>\n",
       "      <th>0</th>\n",
       "      <td>2018-01-01</td>\n",
       "      <td>88.190002</td>\n",
       "    </tr>\n",
       "    <tr>\n",
       "      <th>1</th>\n",
       "      <td>2018-01-08</td>\n",
       "      <td>89.599998</td>\n",
       "    </tr>\n",
       "    <tr>\n",
       "      <th>2</th>\n",
       "      <td>2018-01-15</td>\n",
       "      <td>90.000000</td>\n",
       "    </tr>\n",
       "    <tr>\n",
       "      <th>3</th>\n",
       "      <td>2018-01-22</td>\n",
       "      <td>94.059998</td>\n",
       "    </tr>\n",
       "    <tr>\n",
       "      <th>4</th>\n",
       "      <td>2018-01-29</td>\n",
       "      <td>91.779999</td>\n",
       "    </tr>\n",
       "  </tbody>\n",
       "</table>\n",
       "</div>"
      ],
      "text/plain": [
       "         Date      Close\n",
       "0  2018-01-01  88.190002\n",
       "1  2018-01-08  89.599998\n",
       "2  2018-01-15  90.000000\n",
       "3  2018-01-22  94.059998\n",
       "4  2018-01-29  91.779999"
      ]
     },
     "execution_count": 2,
     "metadata": {},
     "output_type": "execute_result"
    }
   ],
=======
   "execution_count": 143,
>>>>>>> cdb71a1e19e394a1941e014f43344babc9414140
   "source": [
    "#Load data, loose the excess\r\n",
    "df = pd.read_csv('MSFT.csv')\r\n",
    "df = df[['Date', 'Close']]\r\n",
    "df.head()"
<<<<<<< HEAD
   ]
  },
  {
   "cell_type": "code",
   "execution_count": 3,
   "metadata": {},
   "outputs": [
    {
     "data": {
      "text/html": [
       "<div>\n",
       "<style scoped>\n",
       "    .dataframe tbody tr th:only-of-type {\n",
       "        vertical-align: middle;\n",
       "    }\n",
       "\n",
       "    .dataframe tbody tr th {\n",
       "        vertical-align: top;\n",
       "    }\n",
       "\n",
       "    .dataframe thead th {\n",
       "        text-align: right;\n",
       "    }\n",
       "</style>\n",
       "<table border=\"1\" class=\"dataframe\">\n",
       "  <thead>\n",
       "    <tr style=\"text-align: right;\">\n",
       "      <th></th>\n",
       "      <th>Date</th>\n",
       "      <th>return</th>\n",
       "    </tr>\n",
       "  </thead>\n",
       "  <tbody>\n",
       "    <tr>\n",
       "      <th>0</th>\n",
       "      <td>2018-01-01</td>\n",
       "      <td>0.015988</td>\n",
       "    </tr>\n",
       "    <tr>\n",
       "      <th>1</th>\n",
       "      <td>2018-01-08</td>\n",
       "      <td>0.004464</td>\n",
       "    </tr>\n",
       "    <tr>\n",
       "      <th>2</th>\n",
       "      <td>2018-01-15</td>\n",
       "      <td>0.045111</td>\n",
       "    </tr>\n",
       "    <tr>\n",
       "      <th>3</th>\n",
       "      <td>2018-01-22</td>\n",
       "      <td>-0.024240</td>\n",
       "    </tr>\n",
       "    <tr>\n",
       "      <th>4</th>\n",
       "      <td>2018-01-29</td>\n",
       "      <td>-0.039224</td>\n",
       "    </tr>\n",
       "  </tbody>\n",
       "</table>\n",
       "</div>"
      ],
      "text/plain": [
       "         Date    return\n",
       "0  2018-01-01  0.015988\n",
       "1  2018-01-08  0.004464\n",
       "2  2018-01-15  0.045111\n",
       "3  2018-01-22 -0.024240\n",
       "4  2018-01-29 -0.039224"
      ]
     },
     "execution_count": 3,
     "metadata": {},
     "output_type": "execute_result"
    }
   ],
=======
   ],
   "outputs": [
    {
     "output_type": "execute_result",
     "data": {
      "text/html": [
       "<div>\n",
       "<style scoped>\n",
       "    .dataframe tbody tr th:only-of-type {\n",
       "        vertical-align: middle;\n",
       "    }\n",
       "\n",
       "    .dataframe tbody tr th {\n",
       "        vertical-align: top;\n",
       "    }\n",
       "\n",
       "    .dataframe thead th {\n",
       "        text-align: right;\n",
       "    }\n",
       "</style>\n",
       "<table border=\"1\" class=\"dataframe\">\n",
       "  <thead>\n",
       "    <tr style=\"text-align: right;\">\n",
       "      <th></th>\n",
       "      <th>Date</th>\n",
       "      <th>Close</th>\n",
       "    </tr>\n",
       "  </thead>\n",
       "  <tbody>\n",
       "    <tr>\n",
       "      <th>0</th>\n",
       "      <td>2018-01-01</td>\n",
       "      <td>88.190002</td>\n",
       "    </tr>\n",
       "    <tr>\n",
       "      <th>1</th>\n",
       "      <td>2018-01-08</td>\n",
       "      <td>89.599998</td>\n",
       "    </tr>\n",
       "    <tr>\n",
       "      <th>2</th>\n",
       "      <td>2018-01-15</td>\n",
       "      <td>90.000000</td>\n",
       "    </tr>\n",
       "    <tr>\n",
       "      <th>3</th>\n",
       "      <td>2018-01-22</td>\n",
       "      <td>94.059998</td>\n",
       "    </tr>\n",
       "    <tr>\n",
       "      <th>4</th>\n",
       "      <td>2018-01-29</td>\n",
       "      <td>91.779999</td>\n",
       "    </tr>\n",
       "  </tbody>\n",
       "</table>\n",
       "</div>"
      ],
      "text/plain": [
       "         Date      Close\n",
       "0  2018-01-01  88.190002\n",
       "1  2018-01-08  89.599998\n",
       "2  2018-01-15  90.000000\n",
       "3  2018-01-22  94.059998\n",
       "4  2018-01-29  91.779999"
      ]
     },
     "metadata": {},
     "execution_count": 143
    }
   ],
   "metadata": {}
  },
  {
   "cell_type": "code",
   "execution_count": 144,
>>>>>>> cdb71a1e19e394a1941e014f43344babc9414140
   "source": [
    "#Do a little manipulation to get the return\r\n",
    "df['diff'] = pd.Series(np.diff(df['Close']))\r\n",
    "df['return'] = df['diff']/df['Close']\r\n",
    "df = df[['Date', 'return']].dropna()\r\n",
    "df.head()"
<<<<<<< HEAD
   ]
=======
   ],
   "outputs": [
    {
     "output_type": "execute_result",
     "data": {
      "text/html": [
       "<div>\n",
       "<style scoped>\n",
       "    .dataframe tbody tr th:only-of-type {\n",
       "        vertical-align: middle;\n",
       "    }\n",
       "\n",
       "    .dataframe tbody tr th {\n",
       "        vertical-align: top;\n",
       "    }\n",
       "\n",
       "    .dataframe thead th {\n",
       "        text-align: right;\n",
       "    }\n",
       "</style>\n",
       "<table border=\"1\" class=\"dataframe\">\n",
       "  <thead>\n",
       "    <tr style=\"text-align: right;\">\n",
       "      <th></th>\n",
       "      <th>Date</th>\n",
       "      <th>return</th>\n",
       "    </tr>\n",
       "  </thead>\n",
       "  <tbody>\n",
       "    <tr>\n",
       "      <th>0</th>\n",
       "      <td>2018-01-01</td>\n",
       "      <td>0.015988</td>\n",
       "    </tr>\n",
       "    <tr>\n",
       "      <th>1</th>\n",
       "      <td>2018-01-08</td>\n",
       "      <td>0.004464</td>\n",
       "    </tr>\n",
       "    <tr>\n",
       "      <th>2</th>\n",
       "      <td>2018-01-15</td>\n",
       "      <td>0.045111</td>\n",
       "    </tr>\n",
       "    <tr>\n",
       "      <th>3</th>\n",
       "      <td>2018-01-22</td>\n",
       "      <td>-0.024240</td>\n",
       "    </tr>\n",
       "    <tr>\n",
       "      <th>4</th>\n",
       "      <td>2018-01-29</td>\n",
       "      <td>-0.039224</td>\n",
       "    </tr>\n",
       "  </tbody>\n",
       "</table>\n",
       "</div>"
      ],
      "text/plain": [
       "         Date    return\n",
       "0  2018-01-01  0.015988\n",
       "1  2018-01-08  0.004464\n",
       "2  2018-01-15  0.045111\n",
       "3  2018-01-22 -0.024240\n",
       "4  2018-01-29 -0.039224"
      ]
     },
     "metadata": {},
     "execution_count": 144
    }
   ],
   "metadata": {}
>>>>>>> cdb71a1e19e394a1941e014f43344babc9414140
  },
  {
   "cell_type": "markdown",
   "metadata": {},
   "source": [
    "Our new table is the daily return - i.e. if we invested in MSFT one day, what would the return be from my investment from one day to the next. \n",
    "\n",
    "The first two days can be taken as an example:\n",
    "    - From day 1 to day 2 the price goes up apx $1.4\n",
    "    - $1.4 dollars is approximately 1.6% of the first day price - ~$88\n",
    "    - So if you invested on day one, you'd gain about 1.6%, or .016 <- That's the return value. \n",
    "\n",
    "We can do some of our graphing to take a little look-see and try to determine if this new distribution is normal:"
   ]
  },
  {
   "cell_type": "code",
<<<<<<< HEAD
   "execution_count": 4,
   "metadata": {},
   "outputs": [
    {
     "data": {
      "image/png": "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",
      "text/plain": [
       "<Figure size 432x288 with 1 Axes>"
      ]
     },
     "metadata": {
      "needs_background": "light"
     },
     "output_type": "display_data"
    }
   ],
=======
   "execution_count": 145,
>>>>>>> cdb71a1e19e394a1941e014f43344babc9414140
   "source": [
    "#Histogram\r\n",
    "hi = thinkstats2.Hist(round(df[\"return\"], 2), label=\"Price\")\r\n",
    "thinkplot.Hist(hi)\r\n",
    "thinkplot.Config()"
<<<<<<< HEAD
   ]
  },
  {
   "cell_type": "code",
   "execution_count": 5,
   "metadata": {},
   "outputs": [
    {
     "data": {
      "image/png": "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",
      "text/plain": [
       "<Figure size 432x288 with 1 Axes>"
      ]
     },
     "metadata": {
      "needs_background": "light"
     },
     "output_type": "display_data"
    }
   ],
=======
   ],
   "outputs": [
    {
     "output_type": "display_data",
     "data": {
      "image/png": "iVBORw0KGgoAAAANSUhEUgAAAWoAAAD4CAYAAADFAawfAAAAOXRFWHRTb2Z0d2FyZQBNYXRwbG90bGliIHZlcnNpb24zLjMuNCwgaHR0cHM6Ly9tYXRwbG90bGliLm9yZy8QVMy6AAAACXBIWXMAAAsTAAALEwEAmpwYAAAO80lEQVR4nO3de4xcd3nG8e9bX3CcOA1xthXEuLupUkRUy7msUhpqFAgKjkuhF6hsLqUplQXUbWhatUZEhT8sJNKC2ioIyy1p09Y1VbgVoTqFNKRVZeHUDk7i4KTYEGAhQHAkIOSCDW//mLPusF7vnPXO7Ly2vx9ptLNzfufsM7+dfXTmzJzZyEwkSXX9xLADSJJmZlFLUnEWtSQVZ1FLUnEWtSQVt3AQG73gggtydHR0EJuWpNPS3r17v52ZI9MtG0hRj46OsmfPnkFsWpJOSxHx5RMt89CHJBVnUUtScRa1JBU3kGPUkjQbR44cYWJigqeffnrYUQZuyZIlrFixgkWLFrVex6KWNHQTExMsW7aM0dFRImLYcQYmMzl8+DATExOMjY21Xs9DH5KG7umnn2b58uWndUkDRATLly+f9TMHi1pSCad7SU86mftpUUtScR6jllTOpi07+rq9W27a0HPMggULWLVqFUePHuUFL3gBt912G0uXLj1u3FVXXcWuXbv6mq8Xi1olzPUPs80f4mxUy6PBO+uss9i3bx8Ar3vd69i6dSs33njjseU//OEPWbBgwbyXNHjoQ5KOs2bNGg4ePMjdd9/NS17yEl772teyatUqAM4555xj426++WZWrVrF6tWr2bx5MwCHDh1i7dq1XHHFFaxZs4aHHnpoznnco5akLkePHmXnzp2sXbsWgHvuuYf9+/cf93a6nTt38vGPf5zdu3ezdOlSHn/8cQA2btzI1q1bufjii9m9ezdvfetbueuuu+aUyaKWJOCpp57i0ksvBTp71G9605vYtWsXV1555bTveb7zzju5/vrrjx3HPv/883niiSfYtWsXr3nNa46Ne+aZZ+aczaKWJH78GHW3s88+e9rxmXncW+1+9KMfcd555027nbnwGLUknYRrr72WW2+9lSeffBKAxx9/nHPPPZexsTFuv/12oFPm991335x/lnvUkso5Fd41s3btWvbt28f4+DiLFy9m3bp1vPvd72b79u285S1vYcuWLRw5coT169ezevXqOf0si1qSgCeeeOK4266++mquvvrqE47bvHnzsXd7TBobG+OOO+7oazYPfUhScRa1JBVnUUsqITOHHWFenMz9tKglDd2SJUs4fPjwaV/Wk59HvWTJklmt54uJkoZuxYoVTExM8Nhjjw07ysBN/oeX2bCoJQ3dokWLZvUfT840HvqQpOIsakkqzqKWpOIsakkqzqKWpOIsakkqrlVRR8QfRsSDEbE/InZExOzerS1JOmk9izoiLgT+ABjPzJ8HFgDrBx1MktTR9tDHQuCsiFgILAW+PrhIkqRuPYs6M78G/AXwFeBR4DuZ+amp4yJiY0TsiYg9Z8JpoJI0X9oc+ng28CpgDHgucHZEvH7quMzclpnjmTk+MjLS/6SSdIZqc+jjZcCXMvOxzDwCfBS4arCxJEmT2hT1V4AXRsTS6PzL3WuAA4ONJUma1OYY9W7gw8C9wAPNOtsGnEuS1Gj1MaeZ+U7gnQPOIkmahmcmSlJxFrUkFWdRS1JxFrUkFWdRS1JxFrUkFWdRS1JxFrUkFWdRS1JxFrUkFWdRS1JxFrUkFWdRS1JxFrUkFWdRS1JxFrUkFWdRS1JxFrUkFWdRS1JxFrUkFWdRS1JxFrUkFWdRS1JxFrUkFWdRS1JxFrUkFWdRS1JxFrUkFWdRS1JxFrUkFWdRS1JxFrUkFWdRS1JxFrUkFWdRS1JxFrUkFWdRS1JxrYo6Is6LiA9HxEMRcSAifnHQwSRJHQtbjvsr4I7MfHVELAaWDjCTJKlLz6KOiHOBFwO/DZCZPwB+MNhYkqRJbfaoLwIeA/4uIlYDe4EbMvP73YMiYiOwEWDlypX9zqmiNm3ZMaf1b7lpQ5+S1OT8qB/aHKNeCFwOfCAzLwO+D2yeOigzt2XmeGaOj4yM9DmmJJ252hT1BDCRmbub7z9Mp7glSfOgZ1Fn5jeAr0bE85ubrgE+P9BUkqRj2r7r4/eB7c07Pr4IXD+4SJKkbq2KOjP3AeODjSJJmo5nJkpScRa1JBVnUUtScRa1JBVnUUtScRa1JBVnUUtScRa1JBVnUUtScRa1JBVnUUtScRa1JBVnUUtScRa1JBVnUUtScRa1JBVnUUtScRa1JBVnUUtScRa1JBVnUUtScRa1JBVnUUtScRa1JBVnUUtScRa1JBVnUUtScRa1JBVnUUtScRa1JBVnUUtScRa1JBVnUUtScRa1JBVnUUtScRa1JBVnUUtSca2LOiIWRMTnIuKTgwwkSfpxs9mjvgE4MKggkqTptSrqiFgB/DLwt4ONI0maamHLcX8J/Amw7EQDImIjsBFg5cqVcw4mnYxNW3bMaf1bbtrQpyT91a/7dbrOz+mu5x51RLwC+FZm7p1pXGZuy8zxzBwfGRnpW0BJOtO1OfTxIuCVEfEI8CHgpRHxTwNNJUk6pmdRZ+bbM3NFZo4C64G7MvP1A08mSQJ8H7Ukldf2xUQAMvNu4O6BJJEkTcs9akkqzqKWpOIsakkqzqKWpOIsakkqzqKWpOIsakkqzqKWpOIsakkqzqKWpOIsakkqzqKWpOIsakkqzqKWpOIsakkqzqKWpOIsakkqblb/4UWSADZt2TGn9W+5aUOfkpwZ3KOWpOIsakkqzqKWpOIsakkqzqKWpOIsakkqzqKWpOIsakkqzqKWpOIsakkqzqKWpOIsakkqzqKWpOIsakkqzqKWpOIsakkqzqKWpOIsakkqzqKWpOJ6FnVEPC8iPhMRByLiwYi4YT6CSZI62vxz26PAH2XmvRGxDNgbEZ/OzM8POJskiRZ71Jn5aGbe21z/HnAAuHDQwSRJHW32qI+JiFHgMmD3NMs2AhsBVq5c2Y9sp5VNW3bMaf1bbtrQ1+1IOnW0fjExIs4BPgK8LTO/O3V5Zm7LzPHMHB8ZGelnRkk6o7Uq6ohYRKekt2fmRwcbSZLUrc27PgL4IHAgM983+EiSpG5t9qhfBLwBeGlE7Gsu6wacS5LU6PliYmb+NxDzkEWSNA3PTJSk4ixqSSrOopak4ixqSSrOopak4ixqSSrOopak4ixqSSrOopak4ixqSSrOopak4ixqSSrOopak4ixqSSrOopak4ixqSSrOopak4nr+h5f5tmnLjjmtf8tNG/q6HUlnjqq94R61JBVnUUtScRa1JBVnUUtScRa1JBVnUUtScRa1JBVnUUtScRa1JBVnUUtScRa1JBVnUUtScRa1JBVnUUtScRa1JBVnUUtScRa1JBVnUUtScRa1JBXXqqgjYm1EPBwRByNi86BDSZL+X8+ijogFwPuB64BLgA0Rccmgg0mSOtrsUV8JHMzML2bmD4APAa8abCxJ0qTIzJkHRLwaWJuZv9t8/wbgFzJz05RxG4GNzbfPBx7uf9zWLgC+PcSffzLMPD/MPD/MPHs/k5kj0y1Y2GLlmOa249o9M7cB22YZbCAiYk9mjg87x2yYeX6YeX6Yub/aHPqYAJ7X9f0K4OuDiSNJmqpNUf8PcHFEjEXEYmA98InBxpIkTep56CMzj0bEJuDfgQXArZn54MCTzU2JQzCzZOb5Yeb5YeY+6vlioiRpuDwzUZKKs6glqbhTpqgj4vyI+HREfKH5+uwTjJv2dPeI+JeI2NdcHomIfc3toxHxVNeyrYUyvysivtaVbV3Xsrc34x+OiJcXyvznEfFQRNwfER+LiPOa2/s+z70+2iA6/rpZfn9EXN4if6v7P9+ZI+J5EfGZiDgQEQ9GxA1d65zwcTLMzM2yRyLigSbXnq7bq87z87vmcV9EfDci3tYsG+g8zygzT4kLcDOwubm+GXjPNGMWAIeAi4DFwH3AJdOMey/wZ831UWB/xczAu4A/nmadS5pxzwLGmvUXFMl8LbCwuf6eyfX7Pc9tftfAOmAnnXMBXgjsbpG/5/0fUubnAJc315cB/9vrcTLszM2yR4ALTuZxNqzMU7bzDTonogx0nntdTpk9ajqnrd/WXL8N+NVpxvQ83T0iAvhNYMfgoh7Tl8wn2O6HMvOZzPwScLDZTj/MKXNmfiozjzbjPkvnffeD0GbeXgX8Q3Z8FjgvIp7TY90293/eM2fmo5l5L0Bmfg84AFzYx2x9z9xjuyXnecqYa4BDmfnlPmY7KadSUf90Zj4K0Hz9qWnGXAh8tev7CY5/MK8BvpmZX+i6bSwiPhcR/xkRa4pl3tQ8Nbu16+lhm/s5zMyTfofOXsukfs5zmwwnGjPTum3u/zAyHxMRo8BlwO6um6d7nPTDXDMn8KmI2Budj5mYVH6e6ZwzMnWHblDzPKNSRR0Rd0bE/mkubT8Eqs3p7hv48cl/FFiZmZcBNwL/HBHnFsn8AeBngUubnO9tsc6wM0/+jHcAR4HtzU1zmueTyTDDmDnN3xzMJXNnYcQ5wEeAt2Xmd5ubT/Q46Ye5Zn5RZl5O59M3fy8iXtzHbCfSj3leDLwSuL1r+SDneUZtPutj3mTmy060LCK+OfkUsHmK8q1phs14untELAR+Hbii62c+AzzTXN8bEYeAnwP20MIgM2fmN7u29TfAJ3utM+zMzTbeCLwCuCabg3tznefZZugxZvEM67a5/ydrLpmJiEV0Snp7Zn50csAMj5OhZ87Mya/fioiP0Tks8V8UnufGdcC93XM74HmeUak96h4+Abyxuf5G4F+nGdPrdPeXAQ9l5sTkDRExEp3P3CYiLgIuBr5YIfOUY2a/Buzv2u76iHhWRIw1me8pknkt8KfAKzPzyckVBjDPbT7a4BPAbzWv8L8Q+E7zNHumddvc/3nP3Ly28kHgQGa+r3uFGR4nw858dkQsazKeTeeF5u7HcLl57lo+9Zn3oOd5ZsN4BfNkLsBy4D+ALzRfz29ufy7wb13j1tF5RfwQ8I4p2/h74M1TbvsN4EE6rwzfC/xKlczAPwIPAPfTeWA9p2vZO5rxDwPXFcp8kM6xv33NZeug5nm6DMCbJ3/HdJ7evr9Z/gAw3iL/tPe/j/N7UpmBX6Lz1Pz+rrld1+txMuTMFzW/7/ua3335eW6WLQUOAz85ZZsDneeZLp5CLknFnUqHPiTpjGRRS1JxFrUkFWdRS1JxFrUkFWdRS1JxFrUkFfd/jlNvjOoZLIoAAAAASUVORK5CYII=",
      "text/plain": [
       "<Figure size 432x288 with 1 Axes>"
      ]
     },
     "metadata": {
      "needs_background": "light"
     }
    }
   ],
   "metadata": {}
  },
  {
   "cell_type": "code",
   "execution_count": 146,
>>>>>>> cdb71a1e19e394a1941e014f43344babc9414140
   "source": [
    "#CDF look\r\n",
    "hi_c = thinkstats2.Cdf(hi)\r\n",
    "thinkplot.Cdf(hi_c)\r\n",
    "thinkplot.Config()"
<<<<<<< HEAD
   ]
=======
   ],
   "outputs": [
    {
     "output_type": "display_data",
     "data": {
      "image/png": "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",
      "text/plain": [
       "<Figure size 432x288 with 1 Axes>"
      ]
     },
     "metadata": {
      "needs_background": "light"
     }
    }
   ],
   "metadata": {}
>>>>>>> cdb71a1e19e394a1941e014f43344babc9414140
  },
  {
   "cell_type": "markdown",
   "metadata": {},
   "source": [
    "These charts look semi-normal, but not totally. Examine the probability plot to see it a bit closer. \n",
    "\n",
    "The thinkstats2 file provides this easy to use probability plot function. The book (pg 63ish) has the steps to make this broken out a little bit more. \n",
    "\n",
    "The most simple way I can think of to explain it is that it compares if the middle values are near the mean, the low values are near the low, and the high values are near the high. The model line is what we'd expect if the data was perfectly normal, in this one the middle values are close, the low values are a little lower than expected, the high values are a little lower than expected. \n",
    "\n",
    "In English, it is more or less normal for values close to the mean, but the values (the actual % return values) on either end of the distribution are a bit lower than we'd expect if it was normal. "
   ]
  },
  {
   "cell_type": "code",
<<<<<<< HEAD
   "execution_count": 6,
   "metadata": {},
   "outputs": [
    {
     "data": {
      "image/png": "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",
      "text/plain": [
       "<Figure size 432x288 with 1 Axes>"
      ]
     },
     "metadata": {
      "needs_background": "light"
     },
     "output_type": "display_data"
    }
   ],
   "source": [
    "#Create probability plot\n",
    "thinkstats2.NormalProbabilityPlot(df[\"return\"])\n"
   ]
=======
   "execution_count": 147,
   "source": [
    "#Create probability plot\r\n",
    "thinkstats2.NormalProbabilityPlot(df[\"return\"])\r\n"
   ],
   "outputs": [
    {
     "output_type": "display_data",
     "data": {
      "image/png": "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",
      "text/plain": [
       "<Figure size 432x288 with 1 Axes>"
      ]
     },
     "metadata": {
      "needs_background": "light"
     }
    }
   ],
   "metadata": {}
>>>>>>> cdb71a1e19e394a1941e014f43344babc9414140
  },
  {
   "cell_type": "markdown",
   "metadata": {},
   "source": [
    "Does it match the line? Is it normal? Ehhhhh.... kind of. The highest and lowest values are both lower than expected. For values near the mean, it is pretty close. \n",
    "\n",
    "We can live on the wild side, assume that it is close enough to normal, and 'use' that normality to do some stuff. \n",
    "\n",
    "One of the super useful things about these analytical distributions is the simplicity. A normal curve is always the same basic shape, so all we need to do to create one is to know the mean (mu) and standard deviation (sigma). This allows us to easily extrapolate from what we know, and use all the attributes of the normal distribution. Again, this is an approximation, it is not bang on, but that is useful in a lot of cases. "
   ]
  },
  {
   "cell_type": "code",
<<<<<<< HEAD
   "execution_count": 7,
   "metadata": {},
   "outputs": [],
=======
   "execution_count": 148,
>>>>>>> cdb71a1e19e394a1941e014f43344babc9414140
   "source": [
    "#Create a normal distribution based on the characteristics of the kinda-normal data\r\n",
    "#We are stating our data is normal as per the metrics above\r\n",
    "import scipy.stats\r\n",
    "mu = df[\"return\"].mean()\r\n",
    "sigma = df[\"return\"].std()\r\n",
    "normz = scipy.stats.norm(mu, sigma)"
   ]
  },
  {
   "cell_type": "code",
<<<<<<< HEAD
   "execution_count": 8,
   "metadata": {},
   "outputs": [
    {
     "data": {
      "image/png": "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",
      "text/plain": [
       "<Figure size 432x288 with 1 Axes>"
      ]
     },
     "metadata": {
      "needs_background": "light"
     },
     "output_type": "display_data"
    }
   ],
=======
   "execution_count": 149,
>>>>>>> cdb71a1e19e394a1941e014f43344babc9414140
   "source": [
    "import matplotlib.pyplot as plt\r\n",
    "data = np.sort(df[\"return\"])\r\n",
    "x = np.linspace(-5,5, 52)\r\n",
    "plt.plot(x,normz.cdf(data))\r\n",
    "plt.show()"
<<<<<<< HEAD
   ]
  },
  {
   "cell_type": "code",
   "execution_count": 9,
   "metadata": {},
   "outputs": [
    {
     "name": "stdout",
     "output_type": "stream",
     "text": [
      "0.9355110908938288 : 0.9991544890514654\n"
     ]
    }
   ],
   "source": [
    "#How many daily returns are greater than .5%, but less than 1%?\n",
    "lowVal = normz.cdf(.05)\n",
    "hiVal = normz.cdf(.1)\n",
    "print(str(lowVal) + \" : \" + str(hiVal))"
   ]
  },
  {
   "cell_type": "code",
   "execution_count": 10,
   "metadata": {},
   "outputs": [
    {
     "data": {
      "text/plain": [
       "0.23901164802625616"
      ]
     },
     "execution_count": 10,
     "metadata": {},
     "output_type": "execute_result"
    }
   ],
=======
   ],
   "outputs": [
    {
     "output_type": "display_data",
     "data": {
      "image/png": "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",
      "text/plain": [
       "<Figure size 432x288 with 1 Axes>"
      ]
     },
     "metadata": {
      "needs_background": "light"
     }
    }
   ],
   "metadata": {}
  },
  {
   "cell_type": "code",
   "execution_count": 150,
   "source": [
    "#How many weekly returns are greater than 5%, but less than 10%?\r\n",
    "lowVal = normz.cdf(.05)\r\n",
    "hiVal = normz.cdf(.1)\r\n",
    "print(str(lowVal) + \" : \" + str(hiVal))\r\n",
    "print(\"How many weekly returns are greater than 5%, but less than 10%?\", hiVal-lowVal)\r\n"
   ],
   "outputs": [
    {
     "output_type": "stream",
     "name": "stdout",
     "text": [
      "0.9355110908938288 : 0.9991544890514654\n",
      "How many weekly returns are greater than 5%, but less than 10%? 0.06364339815763664\n"
     ]
    }
   ],
   "metadata": {}
  },
  {
   "cell_type": "code",
   "execution_count": 151,
   "source": [
    "normz.cdf(0)\r\n",
    "#We lose money 45.8% of the time"
   ],
   "outputs": [
    {
     "output_type": "execute_result",
     "data": {
      "text/plain": [
       "0.45880600312056974"
      ]
     },
     "metadata": {},
     "execution_count": 151
    }
   ],
   "metadata": {}
  },
  {
   "cell_type": "code",
   "execution_count": 152,
>>>>>>> cdb71a1e19e394a1941e014f43344babc9414140
   "source": [
    "#Check Normality with code\r\n",
    "k2, p = scipy.stats.normaltest(df[\"return\"])\r\n",
    "p"
<<<<<<< HEAD
   ]
  },
  {
   "cell_type": "code",
   "execution_count": 11,
   "metadata": {},
   "outputs": [
    {
     "name": "stdout",
     "output_type": "stream",
     "text": [
      "The null hypothesis cannot be rejected\n"
     ]
    }
   ],
=======
   ],
   "outputs": [
    {
     "output_type": "execute_result",
     "data": {
      "text/plain": [
       "0.23901164802625616"
      ]
     },
     "metadata": {},
     "execution_count": 152
    }
   ],
   "metadata": {}
  },
  {
   "cell_type": "code",
   "execution_count": 153,
>>>>>>> cdb71a1e19e394a1941e014f43344babc9414140
   "source": [
    "#If we were to write out our decision....\r\n",
    "alpha = .05\r\n",
    "if p < alpha:  # null hypothesis: x comes from a normal distribution\r\n",
    "    print(\"The null hypothesis can be rejected\")\r\n",
    "else:\r\n",
    "    print(\"The null hypothesis cannot be rejected\")"
<<<<<<< HEAD
   ]
=======
   ],
   "outputs": [
    {
     "output_type": "stream",
     "name": "stdout",
     "text": [
      "The null hypothesis cannot be rejected\n"
     ]
    }
   ],
   "metadata": {}
>>>>>>> cdb71a1e19e394a1941e014f43344babc9414140
  },
  {
   "cell_type": "markdown",
   "metadata": {},
   "source": [
    "Now try one. \n",
    "    - Check and see if NFL weights data fits a normal dist.\n",
    "    - Create a normal analytical distribution based off of the emperical data.\n",
    "    - What percentage of people are between 265 and 325? Using the empirical?\n",
    "    - Using the analytical?\n",
    "    - What percentage of people are greater than your weight, using both distributions?\n",
    "If you're fast, try with NBA Weights"
   ]
  },
  {
   "cell_type": "code",
   "execution_count": 154,
   "source": [
    "dfNFL = pd.read_csv(\"NFL.csv\")\r\n",
    "\r\n",
    "nfl = dfNFL[dfNFL[\"Weight (lbs)\"]> 100]\r\n",
    "nfl = pd.Series(dfNFL[\"Weight (lbs)\"])\r\n",
    "nfl.head()"
   ],
   "outputs": [
    {
     "output_type": "execute_result",
     "data": {
      "text/plain": [
       "0    185.0\n",
       "1    235.0\n",
       "2    230.0\n",
       "3    255.0\n",
       "4    305.0\n",
       "Name: Weight (lbs), dtype: float64"
      ]
     },
     "metadata": {},
     "execution_count": 154
    }
   ],
   "metadata": {}
  },
  {
   "cell_type": "code",
   "execution_count": 155,
   "source": [
    "#Histogram\r\n",
    "\r\n",
    "nflHist = thinkstats2.Hist(round(dfNFL[\"Weight (lbs)\"], -1), label=\"Weight\")\r\n",
    "thinkplot.Hist(nflHist)\r\n",
    "thinkplot.Config()\r\n"
   ],
   "outputs": [
    {
     "output_type": "display_data",
     "data": {
      "image/png": "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",
      "text/plain": [
       "<Figure size 432x288 with 1 Axes>"
      ]
     },
     "metadata": {
      "needs_background": "light"
     }
    }
   ],
   "metadata": {}
  },
  {
   "cell_type": "code",
   "execution_count": 156,
   "source": [
    "#Pmf\r\n",
    "\r\n",
    "nflpmf = thinkstats2.Pmf(round(dfNFL[\"Weight (lbs)\"], -1))\r\n",
    "thinkplot.Pmf(nflpmf)\r\n",
    "thinkplot.Config()\r\n",
    "\r\n"
   ],
   "outputs": [
    {
     "output_type": "display_data",
     "data": {
      "image/png": "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",
      "text/plain": [
       "<Figure size 432x288 with 1 Axes>"
      ]
     },
     "metadata": {
      "needs_background": "light"
     }
    }
   ],
   "metadata": {}
  },
  {
   "cell_type": "code",
   "execution_count": 157,
   "source": [
    "nflCdf = thinkstats2.Cdf(nflHist)\r\n",
    "thinkplot.Cdf(nflCdf)\r\n",
    "thinkplot.Config()"
   ],
   "outputs": [
    {
     "output_type": "display_data",
     "data": {
      "image/png": "iVBORw0KGgoAAAANSUhEUgAAAXQAAAD4CAYAAAD8Zh1EAAAAOXRFWHRTb2Z0d2FyZQBNYXRwbG90bGliIHZlcnNpb24zLjMuNCwgaHR0cHM6Ly9tYXRwbG90bGliLm9yZy8QVMy6AAAACXBIWXMAAAsTAAALEwEAmpwYAAATiElEQVR4nO3db4xc1XnH8e/TxX+gdkywDTK2waZy+ecEl24JYAqUQLBJJDcKUnCqJqBEQAINtkOEKyRKkzdJERVEgTiGWiRVCSiBFhc5hagh5cVCw9IasDEQ4xCzgGBNYv4kcrDh6Ysdu+tldnfWO7tz9+z3I4127r1nZp494J/Onjv3nshMJElj3x+0ugBJUnMY6JJUCANdkgphoEtSIQx0SSrEQa364BkzZuS8efNa9fGSNCY9/vjjOzJzZr1jLQv0efPm0dnZ2aqPl6QxKSJ+1d8xp1wkqRAGuiQVwkCXpEK0bA69nt27d9PV1cWuXbtaXUqlTJ48mTlz5jBhwoRWlyKpwioV6F1dXUydOpV58+YREa0upxIyk9dff52uri7mz5/f6nIkVdigUy4RsS4iXouITf0cj4j4VkRsjYgnI+LkAy1m165dTJ8+3TDvJSKYPn26f7VIGlQjc+h3AEsGOL4UWFB7XAp8ZzgFGebvZ59IasSgUy6Z+XBEzBugyTLg+9lzH95HI+LQiJiVma80q0hJGi33/fQJ7v5xJ79/Z/eIf9Y9N1/e1Pdrxhz6bODFXttdtX3vC/SIuJSeUTxHHXVUEz66+VauXMnRRx/NihUrADj//POZO3cut99+OwBf+cpXmD17NqtWrXrfa6+77jrOPPNMzj333H7f//rrr2fKlClcffXV++3fuXMnd955J1/60pea98tIep/RDOzR1oxArzcfUHfVjMxcC6wFaG9vr+TKGqeffjo//OEPWbFiBe+99x47duzgzTff3He8o6ODm266qe5rv/a1rx3w5+7cuZNbb73VQJeGqeTAHkwzAr0LmNtrew7wchPetyUWL17MypUrAdi8eTMLFy7klVde4Te/+Q2HHHIIW7ZsAeCss87i7bffZsaMGdxxxx3MmjWLiy++mE984hNceOGFbNiwgVWrVjFjxgxOPvlktm3bxv333w/A008/zdlnn8327dtZsWIFX/7yl1m9ejXPP/88ixYt4rzzzuOGG25oWR9IVTYagT1p4gQ+vbSdZeecNGKfMRKaEejrgSsj4i7gI8AbzZg//9RVa4ZdWH8Gmrc68sgjOeigg9i+fTsdHR2cdtppvPTSSzzyyCNMmzaN448/npUrV3Lfffcxc+ZM7r77bq699lrWrVu37z127drFZZddxsMPP8z8+fNZvnz5fp/xzDPP8NBDD/HWW29x7LHH8sUvfpFvfOMbbNq0iY0bN47Ury0VoRlhPlYDezCDBnpE/AA4G5gREV3A3wETADJzDbABuADYCvwOuGSkih0tixcvpqOjg46ODlatWsVLL71ER0cH06ZNY/bs2Tz44IOcd955ALz77rvMmjVrv9c/88wzHHPMMfu+N758+XLWrl277/jHP/5xJk2axKRJkzj88MN59dVXR++Xk8a4RsK81MAeTCPfclk+yPEErmhaRRVw+umn09HRwVNPPcXChQuZO3cuN954Ix/4wAc455xz9o3Y+zPYwtuTJk3a97ytrY09e/Y0rXZpPGn2t0TGukpdKdpbK/9DLV68mBtvvJFjjjmGtrY2DjvsMHbu3MnmzZv57ne/y80338wjjzzCaaedxu7du3nuuec48cQT973+uOOOY9u2bbzwwgvMmzePu+++e9DPnDp1Km+99dZI/lqSCufNuer40Ic+xI4dOzj11FP32zdt2jQOP/xwfvSjH3HNNddw0kknsWjRIjo6OvZ7/cEHH8ytt97KkiVLOOOMMzjiiCOYNm3agJ85ffp0Fi9ezMKFC/nqV786Ir+XpLLFYNMDI6W9vT37LnCxZcsWjj/++JbU02xvv/02U6ZMITO54oorWLBgwb5vzxyIkvpGGshQvsUyHqdcIuLxzGyvd8wR+gi57bbbWLRoESeeeCJvvPEGl112WatLksaERsN80kTvPtpXZefQx7qVK1cOa0QujVdD+RaL9le5QM9Mb0bVR6umxaRWG49TKsNRqSmXyZMn8/rrrxtgvey9H/rkyZNbXYqkiqvUCH3OnDl0dXXR3d3d6lIqZe+KRVIJxvO9VkZapQJ9woQJrsojFc6TniOnUlMuksrnSc+RU6kRuqTxxZOezeUIXZIKYaBLUiEMdEkqhIEuSYUw0CWpEH7LRVJTeeFQ6zhCl9RUXjjUOga6pKbywqHWccpF0ojxwqHRZaBLGhLnyKvLKRdJQ+IceXUZ6JKGxDny6nLKRdIBc468WhyhS1IhHKFL2o8nPccuR+iS9uNJz7HLQJe0H096jl1OuUjqlyc9xxZH6JJUCEfo0jjjSc9yNTRCj4glEfFsRGyNiNV1jk+LiH+PiCciYnNEXNL8UiU1gyc9yzVooEdEG3ALsBQ4AVgeESf0aXYF8HRmngScDdwYERObXKukJvCkZ7kamXI5BdiamdsAIuIuYBnwdK82CUyNiACmAL8G9jS5VklN5knPsjQy5TIbeLHXdldtX2/fBo4HXgaeAq7KzPf6vlFEXBoRnRHR2d3dfYAlS5LqaSTQo86+7LN9PrAROBJYBHw7Ij7wvhdlrs3M9sxsnzlz5hBLlSQNpJFA7wLm9tqeQ89IvLdLgHuzx1bgl8BxzSlRktSIRgL9MWBBRMyvnei8CFjfp8124KMAEXEEcCywrZmFSpIGNuhJ0czcExFXAg8AbcC6zNwcEZfXjq8Bvg7cERFP0TNFc01m7hjBuiVJfTR0YVFmbgA29Nm3ptfzl4GPNbc0SdJQeOm/JBXCQJekQhjoklQIb84lFcabb41fjtClwnjzrfHLQJcK4823xi+nXKSCefOt8cURuiQVwkCXpEIY6JJUCANdkgphoEtSIQx0SSqEX1uUxhivBFV/HKFLY4xXgqo/Bro0xnglqPrjlIs0hnklqHpzhC5JhTDQJakQBrokFcJAl6RCGOiSVAgDXZIKYaBLUiEMdEkqhIEuSYUw0CWpEAa6JBXCQJekQhjoklSIhgI9IpZExLMRsTUiVvfT5uyI2BgRmyPiv5pbpiRpMIPePjci2oBbgPOALuCxiFifmU/3anMocCuwJDO3R8ThI1SvVDxXJNKBamSEfgqwNTO3ZeY7wF3Asj5tPgPcm5nbATLzteaWKY0frkikA9VIoM8GXuy13VXb19sfAx+MiJ9FxOMR8dl6bxQRl0ZEZ0R0dnd3H1jFUuFckUgHqpEVi6LOvqzzPn8KfBQ4GHgkIh7NzOf2e1HmWmAtQHt7e9/3kNSHKxJpKBoJ9C5gbq/tOcDLddrsyMzfAr+NiIeBk4DnkCSNikamXB4DFkTE/IiYCFwErO/T5j7gzyPioIg4BPgIsKW5pUqSBjLoCD0z90TElcADQBuwLjM3R8TlteNrMnNLRPwH8CTwHnB7Zm4aycIlSftrZMqFzNwAbOizb02f7RuAG5pXmiRpKLxSVJIKYaBLUiEMdEkqRENz6JKax0v7NVIcoUujzEv7NVIMdGmUeWm/RopTLlILeWm/mskRuiQVwkCXpEIY6JJUCANdkgphoEtSIQx0SSqEgS5JhTDQJakQBrokFcJAl6RCGOiSVAgDXZIKYaBLUiEMdEkqhIEuSYUw0CWpEAa6JBXCQJekQrgEndRk9/30iYYXgpaayRG61GSNhvmkiRNGoRqNJwa61GSNhvmnl7aPQjUaT5xykUbQPTdf3uoSNI44QpekQhjoklSIhgI9IpZExLMRsTUiVg/Q7s8i4t2IuLB5JUqSGjFooEdEG3ALsBQ4AVgeESf00+6bwAPNLlKSNLhGRuinAFszc1tmvgPcBSyr0+5vgHuA15pYnySpQY0E+mzgxV7bXbV9+0TEbOCTwJqB3igiLo2Izojo7O7uHmqtkqQBNBLoUWdf9tm+CbgmM98d6I0yc21mtmdm+8yZMxssUZLUiEa+h94FzO21PQd4uU+bduCuiACYAVwQEXsy89+aUaQkaXCNBPpjwIKImA+8BFwEfKZ3g8ycv/d5RNwB3G+YS9LoGjTQM3NPRFxJz7dX2oB1mbk5Ii6vHR9w3lySNDoauvQ/MzcAG/rsqxvkmXnx8MuSJA2V93KRhsjb46qqvPRfGiJvj6uqMtClIfL2uKoqp1ykYfD2uKoSR+iSVAgDXZIKYaBLUiEMdEkqhIEuSYUw0CWpEAa6JBXCQJekQhjoklQIA12SCmGgS1IhDHRJKoSBLkmFMNAlqRAGuiQVwkCXpEIY6JJUCANdkgphoEtSIQx0SSqEgS5JhTDQJakQBrokFcJAl6RCGOiSVIiDWl2AVDX3/fQJ7v5xJ79/Z3erS5GGpKERekQsiYhnI2JrRKyuc/yvIuLJ2qMjIk5qfqnS6Gg0zCdNnDAK1UiNGzTQI6INuAVYCpwALI+IE/o0+yVwVmZ+GPg6sLbZhUqjpdEw//TS9lGoRmpcI1MupwBbM3MbQETcBSwDnt7bIDM7erV/FJjTzCKlVrnn5stbXYLUsEamXGYDL/ba7qrt68/ngR/XOxARl0ZEZ0R0dnd3N16lJGlQjQR61NmXdRtG/AU9gX5NveOZuTYz2zOzfebMmY1XKUkaVCNTLl3A3F7bc4CX+zaKiA8DtwNLM/P15pQnSWpUIyP0x4AFETE/IiYCFwHrezeIiKOAe4G/zsznml+mJGkwg47QM3NPRFwJPAC0Aesyc3NEXF47vga4DpgO3BoRAHsy068ASNIoaujCoszcAGzos29Nr+dfAL7Q3NIkSUPhpf+SVAgDXZIKYaBLUiEMdEkqhIEuSYUw0CWpEAa6JBXCBS407riAhUrlCF3jjgtYqFQGusYdF7BQqZxy0bjmAhYqiSN0SSqEgS5JhTDQJakQBrokFcJAl6RCGOiSVAgDXZIKYaBLUiEMdEkqhIEuSYUw0CWpEAa6JBXCQJekQhjoklQIA12SCuH90FUcl5jTeOUIXcVxiTmNVwa6iuMScxqvnHJR0VxiTuOJga4xxzlyqb6GplwiYklEPBsRWyNidZ3jERHfqh1/MiJObn6pUg/nyKX6Bh2hR0QbcAtwHtAFPBYR6zPz6V7NlgILao+PAN+p/ZSGrBkjcOfINR41MuVyCrA1M7cBRMRdwDKgd6AvA76fmQk8GhGHRsSszHyl2QV/6qo1zX5LjVGTJk7gzhs+3+oypMpoZMplNvBir+2u2r6htiEiLo2Izojo7O7uHmqt0j6OwKX3a2SEHnX25QG0ITPXAmsB2tvb33dc2mtvYC8756RWlyKNGY0Eehcwt9f2HODlA2jTFH4NTZLqa2TK5TFgQUTMj4iJwEXA+j5t1gOfrX3b5VTgjZGYP5ck9W/QEXpm7omIK4EHgDZgXWZujojLa8fXABuAC4CtwO+AS0auZElSPQ1dWJSZG+gJ7d771vR6nsAVzS1NkjQU3stFkgphoEtSIQx0SSqEgS5JhYie85kt+OCIbuBXB/jyGcCOJpbTbFWvD6pfo/UNj/UNT5XrOzozZ9Y70LJAH46I6MzMyl73XfX6oPo1Wt/wWN/wVL2+/jjlIkmFMNAlqRBjNdDXtrqAQVS9Pqh+jdY3PNY3PFWvr64xOYcuSXq/sTpClyT1YaBLUiHGXKAPtmB1K0TECxHxVERsjIjO2r7DIuInEfGL2s8PjmI96yLitYjY1Gtfv/VExN/W+vPZiDi/RfVdHxEv1fpwY0Rc0ML65kbEQxGxJSI2R8RVtf2V6MMB6qtEH0bE5Ij4eUQ8Uavv72v7q9J//dVXif4blswcMw96bt/7PHAMMBF4AjihAnW9AMzos+8fgNW156uBb45iPWcCJwObBqsHOKHWj5OA+bX+bWtBfdcDV9dp24r6ZgEn155PBZ6r1VGJPhygvkr0IT0rmE2pPZ8A/DdwaoX6r7/6KtF/w3mMtRH6vgWrM/MdYO+C1VW0DPhe7fn3gL8crQ/OzIeBXzdYzzLgrsz8fWb+kp572p/Sgvr604r6XsnM/6k9fwvYQs8auZXowwHq689o15eZ+XZtc0LtkVSn//qrrz+j/v/ggRprgd7QYtQtkMCDEfF4RFxa23dE1lZtqv08vGXVDVxPlfr0yoh4sjYls/fP8ZbWFxHzgD+hZxRXuT7sUx9UpA8joi0iNgKvAT/JzEr1Xz/1QUX670CNtUBvaDHqFlicmScDS4ErIuLMVhc0BFXp0+8AfwQsAl4Bbqztb1l9ETEFuAdYkZlvDtS0zr4Rr7FOfZXpw8x8NzMX0bO+8CkRsXCA5lWprzL9d6DGWqCP2mLUQ5GZL9d+vgb8Kz1/jr0aEbMAaj9fa12FMEA9lejTzHy19o/sPeA2/v9P2pbUFxET6AnLf8nMe2u7K9OH9eqrWh/WatoJ/AxYQoX6r159Vey/oRprgd7IgtWjKiL+MCKm7n0OfAzYVKvrc7VmnwPua02F+/RXz3rgooiYFBHzgQXAz0e7uL3/0Gs+SU8ftqS+iAjgn4AtmfmPvQ5Vog/7q68qfRgRMyPi0Nrzg4FzgWeoTv/Vra8q/TcsrT4rO9QHPYtRP0fPmeZrK1DPMfScAX8C2Ly3JmA68J/AL2o/DxvFmn5Az5+Mu+kZXXx+oHqAa2v9+SywtEX1/TPwFPAkPf+AZrWwvjPo+ZP6SWBj7XFBVfpwgPoq0YfAh4H/rdWxCbiutr8q/ddffZXov+E8vPRfkgox1qZcJEn9MNAlqRAGuiQVwkCXpEIY6JJUCANdkgphoEtSIf4PbsV9RgpcX4EAAAAASUVORK5CYII=",
      "text/plain": [
       "<Figure size 432x288 with 1 Axes>"
      ]
     },
     "metadata": {
      "needs_background": "light"
     }
    }
   ],
   "metadata": {}
  },
  {
   "cell_type": "code",
   "execution_count": 158,
   "source": [
    "#Create probability plot\r\n",
    "thinkplot.clf\r\n",
    "thinkstats2.NormalProbabilityPlot(nfl)"
   ],
   "outputs": [
    {
     "output_type": "display_data",
     "data": {
      "image/png": "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",
      "text/plain": [
       "<Figure size 432x288 with 1 Axes>"
      ]
     },
     "metadata": {
      "needs_background": "light"
     }
    }
   ],
   "metadata": {}
  },
  {
   "cell_type": "code",
   "execution_count": 159,
   "source": [
    "def MakeNormalPlot(weights):\r\n",
    "    \"\"\"Generates a normal probability plot of birth weights.\r\n",
    "    weights: sequence\r\n",
    "    \"\"\"\r\n",
    "    mean, var = thinkstats2.TrimmedMeanVar(weights, p=0.01)\r\n",
    "    std = np.sqrt(var)\r\n",
    "    xs = [-5, 5]\r\n",
    "    xs, ys = thinkstats2.FitLine(xs, mean, std)\r\n",
    "    thinkplot.Plot(xs, ys, color='0.8', label='model')\r\n",
    "    xs, ys = thinkstats2.NormalProbability(weights)\r\n",
    "    thinkplot.Plot(xs, ys, label='weights')\r\n",
    "\r\n",
    "    MakeNormalPlot(nfl)"
   ],
   "outputs": [],
   "metadata": {}
  },
  {
   "cell_type": "code",
   "execution_count": 160,
   "source": [
    "#Make analytic distribution\r\n",
    "\r\n",
    "muNFL = nfl.mean()\r\n",
    "sigmaNFL = nfl.std()\r\n",
    "\r\n",
    "nflDist = scipy.stats.norm(muNFL,sigmaNFL)\r\n",
    "\r\n",
    "muNFL, sigmaNFL"
   ],
   "outputs": [
    {
     "output_type": "execute_result",
     "data": {
      "text/plain": [
       "(229.22066468080135, 42.73273161153381)"
      ]
     },
     "metadata": {},
     "execution_count": 160
    }
   ],
   "metadata": {}
  },
  {
   "cell_type": "code",
   "execution_count": 161,
   "source": [
    "# Make empirical distribution\r\n",
    "\r\n",
    "cdf_emp = thinkstats2.Cdf(nfl)\r\n",
    "thinkplot.Cdf(cdf_emp)"
   ],
   "outputs": [
    {
     "output_type": "execute_result",
     "data": {
      "text/plain": [
       "{'xscale': 'linear', 'yscale': 'linear'}"
      ]
     },
     "metadata": {},
     "execution_count": 161
    },
    {
     "output_type": "display_data",
     "data": {
      "image/png": "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",
      "text/plain": [
       "<Figure size 432x288 with 1 Axes>"
      ]
     },
     "metadata": {
      "needs_background": "light"
     }
    }
   ],
   "metadata": {}
  },
  {
   "cell_type": "code",
   "execution_count": 162,
   "source": [
    "# Empirical calculations\r\n",
    "\r\n",
    "less325 = cdf_emp.PercentileRank(325)\r\n",
    "less265 = cdf_emp.PercentileRank(265)\r\n",
    "less265, less325\r\n",
    "\r\n",
    "\r\n",
    "print(\"How many NFL players have weights between 265 lbs and 325 lbs?\", less325-less265)"
   ],
   "outputs": [
    {
     "output_type": "stream",
     "name": "stdout",
     "text": [
      "How many NFL players have weights between 265 lbs and 325 lbs? 17.084282460136663\n"
     ]
    }
   ],
   "metadata": {}
  },
  {
   "cell_type": "code",
   "execution_count": 163,
   "source": [
    "cdf_emp.Percentile(30)\r\n",
    "# the 30th percentile is 200lbs."
   ],
   "outputs": [
    {
     "output_type": "execute_result",
     "data": {
      "text/plain": [
       "200.0"
      ]
     },
     "metadata": {},
     "execution_count": 163
    }
   ],
   "metadata": {}
  },
  {
   "cell_type": "code",
   "execution_count": 164,
   "source": [
    "#Analytical Calculation\r\n",
    "\r\n",
    "lessA = nflDist.cdf(325)\r\n",
    "lessB = nflDist.cdf(265)\r\n",
    "\r\n",
    "print(\"According to the analytical model \" + str(round(lessA-lessB,2)) + \" of NFL players are between 265 and 325 lbs\")\r\n",
    "\r\n",
    "lessA-lessB"
   ],
   "outputs": [
    {
     "output_type": "stream",
     "name": "stdout",
     "text": [
      "According to the analytical model 0.19 of NFL players are between 265 and 325 lbs\n"
     ]
    },
    {
     "output_type": "execute_result",
     "data": {
      "text/plain": [
       "0.18871565563724357"
      ]
     },
     "metadata": {},
     "execution_count": 164
    }
   ],
   "metadata": {}
  },
  {
   "cell_type": "code",
   "execution_count": 165,
   "source": [
    "# Who's heavier than me?\r\n",
    "#Note that Prob is in 0-1 scale. Percentile is 100 point scale. \r\n",
    "empMe = (1-cdf_emp.Prob(170))\r\n",
    "anMe = (1-nflDist.cdf(170))\r\n",
    "\r\n",
    "empMe\r\n",
    "print(str(empMe)+\" of NFL players are heavier than me.\")\r\n",
    "\r\n",
    "empMe-anMe"
   ],
   "outputs": [
    {
     "output_type": "stream",
     "name": "stdout",
     "text": [
      "0.9730740026867589 of NFL players are heavier than me.\n"
     ]
    },
    {
     "output_type": "execute_result",
     "data": {
      "text/plain": [
       "0.05597211437115801"
      ]
     },
     "metadata": {},
     "execution_count": 165
    }
   ],
   "metadata": {}
  },
  {
   "cell_type": "code",
   "execution_count": 180,
   "source": [
    "#LogNormal Prob Plot\r\n",
    "\r\n",
    "thinkstats2.NormalProbabilityPlot(np.log(nfl))\r\n",
    "thinkstats2.NormalProbabilityPlot(nfl)"
   ],
   "outputs": [
    {
     "output_type": "display_data",
     "data": {
      "image/png": "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",
      "text/plain": [
       "<Figure size 432x288 with 1 Axes>"
      ]
     },
     "metadata": {
      "needs_background": "light"
     }
    }
   ],
   "metadata": {}
  },
  {
   "cell_type": "code",
   "execution_count": 181,
   "source": [
    "#Make Analytical Distribution\r\n",
    "\r\n",
    "mu2 = nfl.mean()\r\n",
    "sigma2 = nfl.std()\r\n",
    "\r\n",
    "mu2,sigma2"
   ],
   "outputs": [
    {
     "output_type": "execute_result",
     "data": {
      "text/plain": [
       "(229.22066468080135, 42.73273161153381)"
      ]
     },
     "metadata": {},
     "execution_count": 181
    }
   ],
   "metadata": {}
  },
  {
   "cell_type": "code",
   "execution_count": 182,
   "source": [
    "#Make model\r\n",
    "\r\n",
    "lnnfl = scipy.stats.lognorm(s=sigma2,scale=math.exp(mu2))"
   ],
   "outputs": [],
   "metadata": {}
  },
  {
   "cell_type": "code",
   "execution_count": 188,
   "source": [
    "ln325 = lnnfl.cdf(math.exp(325))\r\n",
    "ln265 = lnnfl.cdf(math.exp(265))\r\n",
    "\r\n",
    "ln325, ln265, (ln325-ln265)\r\n",
    "#Need to transform the weight with exponent to match terms of prior math scale. \r\n",
    "#Close to the emperical and analytical but SLIGHTLY better since our distribution fits a lognormal distribution best"
   ],
   "outputs": [
    {
     "output_type": "execute_result",
     "data": {
      "text/plain": [
       "(0.9874985416023891, 0.7987828859651456, 0.18871565563724357)"
      ]
     },
     "metadata": {},
     "execution_count": 188
    }
   ],
   "metadata": {}
  },
  {
   "cell_type": "markdown",
   "metadata": {},
   "source": [
    "We can try another one - lognormal\r\n",
    "\r\n",
    "We will look at the salary distribution of people in Spain."
   ]
  },
  {
   "cell_type": "code",
<<<<<<< HEAD
   "execution_count": 12,
   "metadata": {},
   "outputs": [
    {
     "data": {
      "text/html": [
       "<div>\n",
       "<style scoped>\n",
       "    .dataframe tbody tr th:only-of-type {\n",
       "        vertical-align: middle;\n",
       "    }\n",
       "\n",
       "    .dataframe tbody tr th {\n",
       "        vertical-align: top;\n",
       "    }\n",
       "\n",
       "    .dataframe thead th {\n",
       "        text-align: right;\n",
       "    }\n",
       "</style>\n",
       "<table border=\"1\" class=\"dataframe\">\n",
       "  <thead>\n",
       "    <tr style=\"text-align: right;\">\n",
       "      <th></th>\n",
       "      <th>year</th>\n",
       "      <th>state</th>\n",
       "      <th>gender</th>\n",
       "      <th>statistic</th>\n",
       "      <th>gross_income_euros</th>\n",
       "    </tr>\n",
       "  </thead>\n",
       "  <tbody>\n",
       "    <tr>\n",
       "      <th>0</th>\n",
       "      <td>2017</td>\n",
       "      <td>nationwide</td>\n",
       "      <td>both</td>\n",
       "      <td>mean</td>\n",
       "      <td>23646.50</td>\n",
       "    </tr>\n",
       "    <tr>\n",
       "      <th>1</th>\n",
       "      <td>2016</td>\n",
       "      <td>nationwide</td>\n",
       "      <td>both</td>\n",
       "      <td>mean</td>\n",
       "      <td>23156.34</td>\n",
       "    </tr>\n",
       "    <tr>\n",
       "      <th>2</th>\n",
       "      <td>2015</td>\n",
       "      <td>nationwide</td>\n",
       "      <td>both</td>\n",
       "      <td>mean</td>\n",
       "      <td>23106.30</td>\n",
       "    </tr>\n",
       "    <tr>\n",
       "      <th>3</th>\n",
       "      <td>2014</td>\n",
       "      <td>nationwide</td>\n",
       "      <td>both</td>\n",
       "      <td>mean</td>\n",
       "      <td>22858.17</td>\n",
       "    </tr>\n",
       "    <tr>\n",
       "      <th>4</th>\n",
       "      <td>2013</td>\n",
       "      <td>nationwide</td>\n",
       "      <td>both</td>\n",
       "      <td>mean</td>\n",
       "      <td>22697.86</td>\n",
       "    </tr>\n",
       "  </tbody>\n",
       "</table>\n",
       "</div>"
      ],
      "text/plain": [
       "   year       state gender statistic  gross_income_euros\n",
       "0  2017  nationwide   both      mean            23646.50\n",
       "1  2016  nationwide   both      mean            23156.34\n",
       "2  2015  nationwide   both      mean            23106.30\n",
       "3  2014  nationwide   both      mean            22858.17\n",
       "4  2013  nationwide   both      mean            22697.86"
      ]
     },
     "execution_count": 12,
     "metadata": {},
     "output_type": "execute_result"
    }
   ],
=======
   "execution_count": 166,
>>>>>>> cdb71a1e19e394a1941e014f43344babc9414140
   "source": [
    "#Load and preview data\r\n",
    "dfSP = pd.read_csv(\"spain_salary.csv\")\r\n",
    "dfSP.head()"
<<<<<<< HEAD
   ]
  },
  {
   "cell_type": "code",
   "execution_count": 13,
   "metadata": {},
   "outputs": [
    {
     "data": {
      "text/plain": [
       "0       23646.50\n",
       "1       23156.34\n",
       "2       23106.30\n",
       "3       22858.17\n",
       "4       22697.86\n",
       "          ...   \n",
       "3185    23097.08\n",
       "3186    23512.09\n",
       "3187    23641.44\n",
       "3188    23240.00\n",
       "3189    22549.68\n",
       "Name: gross_income_euros, Length: 540, dtype: float64"
      ]
     },
     "execution_count": 13,
     "metadata": {},
     "output_type": "execute_result"
    }
   ],
=======
   ],
   "outputs": [
    {
     "output_type": "execute_result",
     "data": {
      "text/html": [
       "<div>\n",
       "<style scoped>\n",
       "    .dataframe tbody tr th:only-of-type {\n",
       "        vertical-align: middle;\n",
       "    }\n",
       "\n",
       "    .dataframe tbody tr th {\n",
       "        vertical-align: top;\n",
       "    }\n",
       "\n",
       "    .dataframe thead th {\n",
       "        text-align: right;\n",
       "    }\n",
       "</style>\n",
       "<table border=\"1\" class=\"dataframe\">\n",
       "  <thead>\n",
       "    <tr style=\"text-align: right;\">\n",
       "      <th></th>\n",
       "      <th>year</th>\n",
       "      <th>state</th>\n",
       "      <th>gender</th>\n",
       "      <th>statistic</th>\n",
       "      <th>gross_income_euros</th>\n",
       "    </tr>\n",
       "  </thead>\n",
       "  <tbody>\n",
       "    <tr>\n",
       "      <th>0</th>\n",
       "      <td>2017</td>\n",
       "      <td>nationwide</td>\n",
       "      <td>both</td>\n",
       "      <td>mean</td>\n",
       "      <td>23646.50</td>\n",
       "    </tr>\n",
       "    <tr>\n",
       "      <th>1</th>\n",
       "      <td>2016</td>\n",
       "      <td>nationwide</td>\n",
       "      <td>both</td>\n",
       "      <td>mean</td>\n",
       "      <td>23156.34</td>\n",
       "    </tr>\n",
       "    <tr>\n",
       "      <th>2</th>\n",
       "      <td>2015</td>\n",
       "      <td>nationwide</td>\n",
       "      <td>both</td>\n",
       "      <td>mean</td>\n",
       "      <td>23106.30</td>\n",
       "    </tr>\n",
       "    <tr>\n",
       "      <th>3</th>\n",
       "      <td>2014</td>\n",
       "      <td>nationwide</td>\n",
       "      <td>both</td>\n",
       "      <td>mean</td>\n",
       "      <td>22858.17</td>\n",
       "    </tr>\n",
       "    <tr>\n",
       "      <th>4</th>\n",
       "      <td>2013</td>\n",
       "      <td>nationwide</td>\n",
       "      <td>both</td>\n",
       "      <td>mean</td>\n",
       "      <td>22697.86</td>\n",
       "    </tr>\n",
       "  </tbody>\n",
       "</table>\n",
       "</div>"
      ],
      "text/plain": [
       "   year       state gender statistic  gross_income_euros\n",
       "0  2017  nationwide   both      mean            23646.50\n",
       "1  2016  nationwide   both      mean            23156.34\n",
       "2  2015  nationwide   both      mean            23106.30\n",
       "3  2014  nationwide   both      mean            22858.17\n",
       "4  2013  nationwide   both      mean            22697.86"
      ]
     },
     "metadata": {},
     "execution_count": 166
    }
   ],
   "metadata": {}
  },
  {
   "cell_type": "code",
   "execution_count": 167,
>>>>>>> cdb71a1e19e394a1941e014f43344babc9414140
   "source": [
    "#I'm going to extract the income into a Pandas Series. This is a 1D data structure\r\n",
    "#Not much differs in using it, but we should see it, it is common\r\n",
    "dfSP = dfSP[dfSP[\"statistic\"] == \"mean\"]\r\n",
    "spinc = pd.Series(dfSP[\"gross_income_euros\"])\r\n",
    "spinc"
<<<<<<< HEAD
   ]
=======
   ],
   "outputs": [
    {
     "output_type": "execute_result",
     "data": {
      "text/plain": [
       "0       23646.50\n",
       "1       23156.34\n",
       "2       23106.30\n",
       "3       22858.17\n",
       "4       22697.86\n",
       "          ...   \n",
       "3185    23097.08\n",
       "3186    23512.09\n",
       "3187    23641.44\n",
       "3188    23240.00\n",
       "3189    22549.68\n",
       "Name: gross_income_euros, Length: 540, dtype: float64"
      ]
     },
     "metadata": {},
     "execution_count": 167
    }
   ],
   "metadata": {}
>>>>>>> cdb71a1e19e394a1941e014f43344babc9414140
  },
  {
   "cell_type": "markdown",
   "metadata": {},
   "source": [
    "Do some basic preview stuff for a few cells...."
   ]
  },
  {
   "cell_type": "code",
<<<<<<< HEAD
   "execution_count": 14,
   "metadata": {},
   "outputs": [
    {
     "data": {
      "text/plain": [
       "count      540.000000\n",
       "mean     21865.320611\n",
       "std       3217.149924\n",
       "min      16020.200000\n",
       "25%      19344.052500\n",
       "50%      21371.710000\n",
       "75%      23773.370000\n",
       "max      31618.970000\n",
       "Name: gross_income_euros, dtype: float64"
      ]
     },
     "execution_count": 14,
     "metadata": {},
     "output_type": "execute_result"
    }
   ],
   "source": [
    "spinc.describe()"
   ]
  },
  {
   "cell_type": "code",
   "execution_count": 15,
   "metadata": {},
   "outputs": [
    {
     "data": {
      "image/png": "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",
      "text/plain": [
       "<Figure size 432x288 with 1 Axes>"
      ]
     },
     "metadata": {
      "needs_background": "light"
     },
     "output_type": "display_data"
    }
   ],
=======
   "execution_count": 168,
   "source": [
    "spinc.describe()"
   ],
   "outputs": [
    {
     "output_type": "execute_result",
     "data": {
      "text/plain": [
       "count      540.000000\n",
       "mean     21865.320611\n",
       "std       3217.149924\n",
       "min      16020.200000\n",
       "25%      19344.052500\n",
       "50%      21371.710000\n",
       "75%      23773.370000\n",
       "max      31618.970000\n",
       "Name: gross_income_euros, dtype: float64"
      ]
     },
     "metadata": {},
     "execution_count": 168
    }
   ],
   "metadata": {}
  },
  {
   "cell_type": "code",
   "execution_count": 169,
>>>>>>> cdb71a1e19e394a1941e014f43344babc9414140
   "source": [
    "#Hist\r\n",
    "histSP = thinkstats2.Hist(round(spinc, -3))\r\n",
    "thinkplot.Hist(histSP)\r\n",
    "thinkplot.Config()"
<<<<<<< HEAD
   ]
  },
  {
   "cell_type": "code",
   "execution_count": 16,
   "metadata": {},
   "outputs": [
    {
     "data": {
      "image/png": "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",
      "text/plain": [
       "<Figure size 432x288 with 1 Axes>"
      ]
     },
     "metadata": {
      "needs_background": "light"
     },
     "output_type": "display_data"
    }
   ],
=======
   ],
   "outputs": [
    {
     "output_type": "display_data",
     "data": {
      "image/png": "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",
      "text/plain": [
       "<Figure size 432x288 with 1 Axes>"
      ]
     },
     "metadata": {
      "needs_background": "light"
     }
    }
   ],
   "metadata": {}
  },
  {
   "cell_type": "code",
   "execution_count": 170,
>>>>>>> cdb71a1e19e394a1941e014f43344babc9414140
   "source": [
    "#CDF\r\n",
    "cdfSP = thinkstats2.Cdf(spinc)\r\n",
    "thinkplot.Cdf(cdfSP)\r\n",
    "thinkplot.Config()"
<<<<<<< HEAD
   ]
=======
   ],
   "outputs": [
    {
     "output_type": "display_data",
     "data": {
      "image/png": "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",
      "text/plain": [
       "<Figure size 432x288 with 1 Axes>"
      ]
     },
     "metadata": {
      "needs_background": "light"
     }
    }
   ],
   "metadata": {}
>>>>>>> cdb71a1e19e394a1941e014f43344babc9414140
  },
  {
   "cell_type": "markdown",
   "metadata": {},
   "source": [
    "Ok, is it lognormal?"
   ]
  },
  {
   "cell_type": "code",
<<<<<<< HEAD
   "execution_count": 17,
   "metadata": {},
   "outputs": [
    {
     "data": {
      "image/png": "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",
      "text/plain": [
       "<Figure size 432x288 with 1 Axes>"
      ]
     },
     "metadata": {
      "needs_background": "light"
     },
     "output_type": "display_data"
    }
   ],
=======
   "execution_count": 171,
>>>>>>> cdb71a1e19e394a1941e014f43344babc9414140
   "source": [
    "#Plot normal prob curve\r\n",
    "thinkstats2.NormalProbabilityPlot(np.log(spinc))"
<<<<<<< HEAD
   ]
=======
   ],
   "outputs": [
    {
     "output_type": "display_data",
     "data": {
      "image/png": "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",
      "text/plain": [
       "<Figure size 432x288 with 1 Axes>"
      ]
     },
     "metadata": {
      "needs_background": "light"
     }
    }
   ],
   "metadata": {}
>>>>>>> cdb71a1e19e394a1941e014f43344babc9414140
  },
  {
   "cell_type": "markdown",
   "metadata": {},
   "source": [
    "How about normal?"
   ]
  },
  {
   "cell_type": "code",
<<<<<<< HEAD
   "execution_count": 18,
   "metadata": {},
   "outputs": [
    {
     "data": {
      "image/png": "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",
      "text/plain": [
       "<Figure size 432x288 with 1 Axes>"
      ]
     },
     "metadata": {
      "needs_background": "light"
     },
     "output_type": "display_data"
    }
   ],
   "source": [
    "thinkstats2.NormalProbabilityPlot(spinc)"
   ]
=======
   "execution_count": 172,
   "source": [
    "thinkstats2.NormalProbabilityPlot(spinc)"
   ],
   "outputs": [
    {
     "output_type": "display_data",
     "data": {
      "image/png": "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",
      "text/plain": [
       "<Figure size 432x288 with 1 Axes>"
      ]
     },
     "metadata": {
      "needs_background": "light"
     }
    }
   ],
   "metadata": {}
>>>>>>> cdb71a1e19e394a1941e014f43344babc9414140
  },
  {
   "cell_type": "markdown",
   "metadata": {},
   "source": [
    "What do these mean? \n",
    "\n",
    "The lognormal looks to be slightly more accurate through the curve, it is probably a better representation.  \n"
   ]
  },
  {
   "cell_type": "markdown",
   "metadata": {},
   "source": [
    "We can try another, maybe a Pareto "
   ]
  },
  {
   "cell_type": "code",
<<<<<<< HEAD
   "execution_count": 19,
   "metadata": {},
   "outputs": [
    {
     "data": {
      "text/plain": [
       "0    565.0\n",
       "1    405.0\n",
       "2    290.0\n",
       "3    260.0\n",
       "4    355.0\n",
       "Name: Wage, dtype: float64"
      ]
     },
     "execution_count": 19,
     "metadata": {},
     "output_type": "execute_result"
    }
   ],
   "source": [
    "df_fifa = pd.read_csv(\"fifa_eda.csv\")\n",
    "df_fifa = df_fifa[df_fifa[\"Wage\"] > 0]\n",
    "fifa = df_fifa[\"Wage\"]\n",
    "fifa.head()\n"
   ]
  },
  {
   "cell_type": "code",
   "execution_count": 20,
   "metadata": {},
   "outputs": [
    {
     "data": {
      "text/plain": [
       "count    17966.000000\n",
       "mean         9.861850\n",
       "std         22.117274\n",
       "min          1.000000\n",
       "25%          1.000000\n",
       "50%          3.000000\n",
       "75%          9.000000\n",
       "max        565.000000\n",
       "Name: Wage, dtype: float64"
      ]
     },
     "execution_count": 20,
     "metadata": {},
     "output_type": "execute_result"
    }
   ],
   "source": [
    "fifa.describe()"
   ]
  },
  {
   "cell_type": "code",
   "execution_count": 21,
   "metadata": {},
   "outputs": [
    {
     "data": {
      "image/png": "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",
      "text/plain": [
       "<Figure size 432x288 with 1 Axes>"
      ]
     },
     "metadata": {
      "needs_background": "light"
     },
     "output_type": "display_data"
    }
   ],
=======
   "execution_count": 173,
   "source": [
    "df_fifa = pd.read_csv(\"fifa_eda.csv\")\r\n",
    "df_fifa = df_fifa[df_fifa[\"Wage\"] > 0]\r\n",
    "fifa = df_fifa[\"Wage\"]\r\n",
    "fifa.head()\r\n"
   ],
   "outputs": [
    {
     "output_type": "execute_result",
     "data": {
      "text/plain": [
       "0    565.0\n",
       "1    405.0\n",
       "2    290.0\n",
       "3    260.0\n",
       "4    355.0\n",
       "Name: Wage, dtype: float64"
      ]
     },
     "metadata": {},
     "execution_count": 173
    }
   ],
   "metadata": {}
  },
  {
   "cell_type": "code",
   "execution_count": 174,
   "source": [
    "fifa.describe()"
   ],
   "outputs": [
    {
     "output_type": "execute_result",
     "data": {
      "text/plain": [
       "count    17966.000000\n",
       "mean         9.861850\n",
       "std         22.117274\n",
       "min          1.000000\n",
       "25%          1.000000\n",
       "50%          3.000000\n",
       "75%          9.000000\n",
       "max        565.000000\n",
       "Name: Wage, dtype: float64"
      ]
     },
     "metadata": {},
     "execution_count": 174
    }
   ],
   "metadata": {}
  },
  {
   "cell_type": "code",
   "execution_count": 175,
>>>>>>> cdb71a1e19e394a1941e014f43344babc9414140
   "source": [
    "h = thinkstats2.Hist(fifa)\r\n",
    "thinkplot.Hist(h)"
<<<<<<< HEAD
   ]
  },
  {
   "cell_type": "code",
   "execution_count": 22,
   "metadata": {},
   "outputs": [
    {
     "data": {
      "text/plain": [
       "{'xscale': 'linear', 'yscale': 'linear'}"
      ]
     },
     "execution_count": 22,
     "metadata": {},
     "output_type": "execute_result"
    },
    {
     "data": {
      "image/png": "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",
      "text/plain": [
       "<Figure size 432x288 with 1 Axes>"
      ]
     },
     "metadata": {
      "needs_background": "light"
     },
     "output_type": "display_data"
    }
   ],
=======
   ],
   "outputs": [
    {
     "output_type": "display_data",
     "data": {
      "image/png": "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",
      "text/plain": [
       "<Figure size 432x288 with 1 Axes>"
      ]
     },
     "metadata": {
      "needs_background": "light"
     }
    }
   ],
   "metadata": {}
  },
  {
   "cell_type": "code",
   "execution_count": 176,
>>>>>>> cdb71a1e19e394a1941e014f43344babc9414140
   "source": [
    "c = thinkstats2.Cdf(fifa)\r\n",
    "thinkplot.Cdf(c)"
<<<<<<< HEAD
   ]
=======
   ],
   "outputs": [
    {
     "output_type": "execute_result",
     "data": {
      "text/plain": [
       "{'xscale': 'linear', 'yscale': 'linear'}"
      ]
     },
     "metadata": {},
     "execution_count": 176
    },
    {
     "output_type": "display_data",
     "data": {
      "image/png": "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",
      "text/plain": [
       "<Figure size 432x288 with 1 Axes>"
      ]
     },
     "metadata": {
      "needs_background": "light"
     }
    }
   ],
   "metadata": {}
>>>>>>> cdb71a1e19e394a1941e014f43344babc9414140
  },
  {
   "cell_type": "markdown",
   "metadata": {},
   "source": [
    "Is it pareto?"
   ]
  },
  {
   "cell_type": "code",
<<<<<<< HEAD
   "execution_count": 23,
   "metadata": {},
   "outputs": [
    {
     "data": {
      "image/png": "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",
      "text/plain": [
       "<Figure size 432x288 with 1 Axes>"
      ]
     },
     "metadata": {
      "needs_background": "light"
     },
     "output_type": "display_data"
    }
   ],
=======
   "execution_count": 177,
>>>>>>> cdb71a1e19e394a1941e014f43344babc9414140
   "source": [
    "#Compare to pareto\r\n",
    "log_wage = np.log(fifa)\r\n",
    "cdf_log = thinkstats2.Cdf(log_wage)\r\n",
    "\r\n",
    "xs, ys = thinkstats2.RenderParetoCdf(alpha=3, low=0, high=1e6, xmin=50000)\r\n",
    "thinkplot.Plot(np.log10(xs), 1-ys, label=\"model\", color=\".8\")\r\n",
    "thinkplot.Cdf(cdf_log, complement=True, label=\"data\") \r\n",
    "thinkplot.Config(xlabel='log10 wage',ylabel='CCDF',yscale='log')"
<<<<<<< HEAD
   ]
  },
  {
   "cell_type": "code",
   "execution_count": 24,
   "metadata": {},
   "outputs": [
    {
     "data": {
      "image/png": "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",
      "text/plain": [
       "<Figure size 432x288 with 1 Axes>"
      ]
     },
     "metadata": {
      "needs_background": "light"
     },
     "output_type": "display_data"
    }
   ],
=======
   ],
   "outputs": [
    {
     "output_type": "display_data",
     "data": {
      "image/png": "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",
      "text/plain": [
       "<Figure size 432x288 with 1 Axes>"
      ]
     },
     "metadata": {
      "needs_background": "light"
     }
    }
   ],
   "metadata": {}
  },
  {
   "cell_type": "code",
   "execution_count": 178,
>>>>>>> cdb71a1e19e394a1941e014f43344babc9414140
   "source": [
    "#Compare it to LogNormal\r\n",
    "mu, sigma = log_wage.mean(), log_wage.std()\r\n",
    "xs, ps = thinkstats2.RenderNormalCdf(mu, sigma, low=0, high=8)\r\n",
    "thinkplot.Plot(xs, ps, label='model', color='0.8')\r\n",
    "thinkplot.Cdf(cdf_log) \r\n",
    "thinkplot.Config(xlabel='log10 wage', ylabel='CDF', loc='lower right')"
<<<<<<< HEAD
   ]
=======
   ],
   "outputs": [
    {
     "output_type": "display_data",
     "data": {
      "image/png": "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",
      "text/plain": [
       "<Figure size 432x288 with 1 Axes>"
      ]
     },
     "metadata": {
      "needs_background": "light"
     }
    }
   ],
   "metadata": {}
>>>>>>> cdb71a1e19e394a1941e014f43344babc9414140
  }
 ],
 "metadata": {
  "interpreter": {
   "hash": "dcdad51ea26ba3fa3a3f192d37806639520de8521c8287e89f3af19647ab8ba9"
  },
  "kernelspec": {
   "display_name": "Python 3.8.8 64-bit ('base': conda)",
   "name": "python3"
  },
  "language_info": {
<<<<<<< HEAD
=======
   "name": "python",
   "version": "3.8.8",
   "mimetype": "text/x-python",
>>>>>>> cdb71a1e19e394a1941e014f43344babc9414140
   "codemirror_mode": {
    "name": "ipython",
    "version": 3
   },
   "file_extension": ".py",
   "mimetype": "text/x-python",
   "name": "python",
   "nbconvert_exporter": "python",
<<<<<<< HEAD
   "pygments_lexer": "ipython3",
   "version": "3.8.8"
  },
  "orig_nbformat": 4
=======
   "file_extension": ".py"
  },
  "kernelspec": {
   "name": "python3",
   "display_name": "Python 3.8.8 64-bit ('base': conda)"
  },
  "interpreter": {
   "hash": "dcdad51ea26ba3fa3a3f192d37806639520de8521c8287e89f3af19647ab8ba9"
  }
>>>>>>> cdb71a1e19e394a1941e014f43344babc9414140
 },
 "nbformat": 4,
 "nbformat_minor": 2
}
