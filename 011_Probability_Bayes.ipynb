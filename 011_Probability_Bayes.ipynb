{
 "cells": [
  {
   "cell_type": "code",
   "execution_count": 1,
   "metadata": {},
   "outputs": [],
   "source": [
    "import thinkplot\n",
    "import thinkstats2\n",
    "import pandas as pd\n",
    "import numpy as np\n",
    "from sklearn.metrics import mean_squared_error\n",
    "import scipy.stats as ss\n",
    "from fractions import Fraction\n",
    "\n",
    "##Seaborn for fancy plots. \n",
    "import matplotlib.pyplot as plt\n",
    "import seaborn as sns\n",
    "plt.rcParams[\"figure.figsize\"] = (15,5)"
   ]
  },
  {
   "cell_type": "markdown",
   "metadata": {},
   "source": [
    "What are the odds my car gets stolen?\n",
    "<ul>\n",
    "<li>P(stolen)\n",
    "<li>P(S)\n",
    "</ul>"
   ]
  },
  {
   "cell_type": "code",
   "execution_count": 2,
   "metadata": {},
   "outputs": [
    {
     "data": {
      "text/html": [
       "<div>\n",
       "<style scoped>\n",
       "    .dataframe tbody tr th:only-of-type {\n",
       "        vertical-align: middle;\n",
       "    }\n",
       "\n",
       "    .dataframe tbody tr th {\n",
       "        vertical-align: top;\n",
       "    }\n",
       "\n",
       "    .dataframe thead th {\n",
       "        text-align: right;\n",
       "    }\n",
       "</style>\n",
       "<table border=\"1\" class=\"dataframe\">\n",
       "  <thead>\n",
       "    <tr style=\"text-align: right;\">\n",
       "      <th></th>\n",
       "      <th>ID</th>\n",
       "      <th>Make</th>\n",
       "      <th>Color</th>\n",
       "      <th>Time</th>\n",
       "      <th>Stolen</th>\n",
       "    </tr>\n",
       "  </thead>\n",
       "  <tbody>\n",
       "    <tr>\n",
       "      <th>0</th>\n",
       "      <td>N001</td>\n",
       "      <td>BMW</td>\n",
       "      <td>black</td>\n",
       "      <td>night</td>\n",
       "      <td>yes</td>\n",
       "    </tr>\n",
       "    <tr>\n",
       "      <th>1</th>\n",
       "      <td>N002</td>\n",
       "      <td>Audi</td>\n",
       "      <td>black</td>\n",
       "      <td>night</td>\n",
       "      <td>no</td>\n",
       "    </tr>\n",
       "    <tr>\n",
       "      <th>2</th>\n",
       "      <td>N003</td>\n",
       "      <td>NISSAN</td>\n",
       "      <td>black</td>\n",
       "      <td>night</td>\n",
       "      <td>yes</td>\n",
       "    </tr>\n",
       "    <tr>\n",
       "      <th>3</th>\n",
       "      <td>N004</td>\n",
       "      <td>VEGA</td>\n",
       "      <td>red</td>\n",
       "      <td>day</td>\n",
       "      <td>yes</td>\n",
       "    </tr>\n",
       "    <tr>\n",
       "      <th>4</th>\n",
       "      <td>N005</td>\n",
       "      <td>BMW</td>\n",
       "      <td>blue</td>\n",
       "      <td>day</td>\n",
       "      <td>no</td>\n",
       "    </tr>\n",
       "    <tr>\n",
       "      <th>5</th>\n",
       "      <td>N006</td>\n",
       "      <td>Audi</td>\n",
       "      <td>black</td>\n",
       "      <td>day</td>\n",
       "      <td>yes</td>\n",
       "    </tr>\n",
       "    <tr>\n",
       "      <th>6</th>\n",
       "      <td>N007</td>\n",
       "      <td>VEGA</td>\n",
       "      <td>red</td>\n",
       "      <td>night</td>\n",
       "      <td>no</td>\n",
       "    </tr>\n",
       "    <tr>\n",
       "      <th>7</th>\n",
       "      <td>N008</td>\n",
       "      <td>Audi</td>\n",
       "      <td>blue</td>\n",
       "      <td>day</td>\n",
       "      <td>yes</td>\n",
       "    </tr>\n",
       "    <tr>\n",
       "      <th>8</th>\n",
       "      <td>N009</td>\n",
       "      <td>VEGA</td>\n",
       "      <td>black</td>\n",
       "      <td>day</td>\n",
       "      <td>yes</td>\n",
       "    </tr>\n",
       "    <tr>\n",
       "      <th>9</th>\n",
       "      <td>N010</td>\n",
       "      <td>NISSAN</td>\n",
       "      <td>blue</td>\n",
       "      <td>day</td>\n",
       "      <td>no</td>\n",
       "    </tr>\n",
       "    <tr>\n",
       "      <th>10</th>\n",
       "      <td>N011</td>\n",
       "      <td>BMW</td>\n",
       "      <td>black</td>\n",
       "      <td>night</td>\n",
       "      <td>yes</td>\n",
       "    </tr>\n",
       "    <tr>\n",
       "      <th>11</th>\n",
       "      <td>N012</td>\n",
       "      <td>NISSAN</td>\n",
       "      <td>red</td>\n",
       "      <td>day</td>\n",
       "      <td>no</td>\n",
       "    </tr>\n",
       "    <tr>\n",
       "      <th>12</th>\n",
       "      <td>N013</td>\n",
       "      <td>VEGA</td>\n",
       "      <td>black</td>\n",
       "      <td>night</td>\n",
       "      <td>yes</td>\n",
       "    </tr>\n",
       "    <tr>\n",
       "      <th>13</th>\n",
       "      <td>N014</td>\n",
       "      <td>BMW</td>\n",
       "      <td>red</td>\n",
       "      <td>day</td>\n",
       "      <td>no</td>\n",
       "    </tr>\n",
       "    <tr>\n",
       "      <th>14</th>\n",
       "      <td>N015</td>\n",
       "      <td>Audi</td>\n",
       "      <td>black</td>\n",
       "      <td>day</td>\n",
       "      <td>yes</td>\n",
       "    </tr>\n",
       "    <tr>\n",
       "      <th>15</th>\n",
       "      <td>N016</td>\n",
       "      <td>Audi</td>\n",
       "      <td>blue</td>\n",
       "      <td>night</td>\n",
       "      <td>yes</td>\n",
       "    </tr>\n",
       "    <tr>\n",
       "      <th>16</th>\n",
       "      <td>N017</td>\n",
       "      <td>Audi</td>\n",
       "      <td>red</td>\n",
       "      <td>day</td>\n",
       "      <td>no</td>\n",
       "    </tr>\n",
       "    <tr>\n",
       "      <th>17</th>\n",
       "      <td>N018</td>\n",
       "      <td>NISSAN</td>\n",
       "      <td>black</td>\n",
       "      <td>day</td>\n",
       "      <td>yes</td>\n",
       "    </tr>\n",
       "    <tr>\n",
       "      <th>18</th>\n",
       "      <td>N019</td>\n",
       "      <td>BMW</td>\n",
       "      <td>blue</td>\n",
       "      <td>day</td>\n",
       "      <td>yes</td>\n",
       "    </tr>\n",
       "    <tr>\n",
       "      <th>19</th>\n",
       "      <td>N020</td>\n",
       "      <td>BMW</td>\n",
       "      <td>red</td>\n",
       "      <td>night</td>\n",
       "      <td>yes</td>\n",
       "    </tr>\n",
       "  </tbody>\n",
       "</table>\n",
       "</div>"
      ],
      "text/plain": [
       "      ID    Make  Color   Time Stolen\n",
       "0   N001     BMW  black  night    yes\n",
       "1   N002    Audi  black  night     no\n",
       "2   N003  NISSAN  black  night    yes\n",
       "3   N004    VEGA    red    day    yes\n",
       "4   N005     BMW   blue    day     no\n",
       "5   N006    Audi  black    day    yes\n",
       "6   N007    VEGA    red  night     no\n",
       "7   N008    Audi   blue    day    yes\n",
       "8   N009    VEGA  black    day    yes\n",
       "9   N010  NISSAN   blue    day     no\n",
       "10  N011     BMW  black  night    yes\n",
       "11  N012  NISSAN    red    day     no\n",
       "12  N013    VEGA  black  night    yes\n",
       "13  N014     BMW    red    day     no\n",
       "14  N015    Audi  black    day    yes\n",
       "15  N016    Audi   blue  night    yes\n",
       "16  N017    Audi    red    day     no\n",
       "17  N018  NISSAN  black    day    yes\n",
       "18  N019     BMW   blue    day    yes\n",
       "19  N020     BMW    red  night    yes"
      ]
     },
     "execution_count": 2,
     "metadata": {},
     "output_type": "execute_result"
    }
   ],
   "source": [
    "df = pd.read_csv(\"vehicle_stolen_dataset.csv\", names=[\"ID\", \"Make\", \"Color\", \"Time\", \"Stolen\"])\n",
    "df.head(20)"
   ]
  },
  {
   "cell_type": "code",
   "execution_count": 3,
   "metadata": {},
   "outputs": [
    {
     "data": {
      "text/plain": [
       "0.65"
      ]
     },
     "execution_count": 3,
     "metadata": {},
     "output_type": "execute_result"
    }
   ],
   "source": [
    "#Calculate how many cars were stolen divided by how many cars\n",
    "pStolen = len(df[df[\"Stolen\"]==\"yes\"])/len(df)\n",
    "pStolen"
   ]
  },
  {
   "cell_type": "markdown",
   "metadata": {},
   "source": [
    "There are 20 total cars\n",
    "13 of those cars were stolen. \n",
    "\n",
    "The probability (fraction of the whole) of cars being stolen is 13/20 = 65% = ...\n",
    "<ul>\n",
    "<li>P(Stolen) = .65, or\n",
    "<li>P(S) = .65\n",
    "</ul>\n",
    "\n",
    "What are the chances my car is a BMW?"
   ]
  },
  {
   "cell_type": "code",
   "execution_count": 4,
   "metadata": {},
   "outputs": [
    {
     "data": {
      "text/plain": [
       "0.3"
      ]
     },
     "execution_count": 4,
     "metadata": {},
     "output_type": "execute_result"
    }
   ],
   "source": [
    "#BMWs divided by number of cars\n",
    "pBMW = len(df[df[\"Make\"]==\"BMW\"])/len(df[\"Make\"])\n",
    "pBMW"
   ]
  },
  {
   "cell_type": "markdown",
   "metadata": {},
   "source": [
    "P(BMW and Stolen) = 0.2 = P(Stolen and BMW)"
   ]
  },
  {
   "cell_type": "markdown",
   "metadata": {},
   "source": [
    "What are the chances that both are true? A car is BMW and stolen."
   ]
  },
  {
   "cell_type": "code",
   "execution_count": 5,
   "metadata": {},
   "outputs": [
    {
     "data": {
      "text/plain": [
       "0.2"
      ]
     },
     "execution_count": 5,
     "metadata": {},
     "output_type": "execute_result"
    }
   ],
   "source": [
    "#How many rows are both true, divided by total\n",
    "pBoth = len(df[(df[\"Make\"]==\"BMW\") & (df[\"Stolen\"]==\"yes\")])/len(df)\n",
    "pBoth"
   ]
  },
  {
   "cell_type": "markdown",
   "metadata": {},
   "source": [
    "## What if I have a BMW? Then how likely is it my car gets stolen?\n",
    "\n",
    "This requires another concept - conditional probability. In order to computer this I need to calculate the probability that my car gets stolen, GIVEN the assumption that my car is a BMW. Expressed in probability notation:\n",
    "P(S|BMW) = ?\n",
    "P(S|B) = ?\n",
    "The probability that S is true, given the asertion that B is true. To calculate:\n",
    "\n",
    "- Select all the results where the make is BMW.\n",
    "\n",
    "- Of those, how many are stolen?"
   ]
  },
  {
   "cell_type": "code",
   "execution_count": 6,
   "metadata": {},
   "outputs": [
    {
     "data": {
      "text/plain": [
       "0.6666666666666666"
      ]
     },
     "execution_count": 6,
     "metadata": {},
     "output_type": "execute_result"
    }
   ],
   "source": [
    "#If I have a BMW, whats the prob of it being stolen?\n",
    "df_BMW = df[df[\"Make\"]==\"BMW\"]\n",
    "pSB = len(df_BMW[df_BMW[\"Stolen\"]==\"yes\"])/len(df_BMW)\n",
    "pSB"
   ]
  },
  {
   "cell_type": "markdown",
   "metadata": {},
   "source": [
    "The probability of my BMW being stolen is a little higher! "
   ]
  },
  {
   "cell_type": "markdown",
   "metadata": {},
   "source": [
    "We can calculate these probabilities slightly more efficently than all that dataframe manipulation.\n",
    "Probability of my car being stolen if it is a BMW:\n",
    "\n",
    "pSB = P(Stolen and BMW)/P(BMW) = pBoth/pBMW\n",
    "\n",
    "This is theorem #1\n",
    "\n",
    "In general form: $$P(A|B) = \\frac{P(A~\\mathrm{and}~B)}{P(B)}$$\n",
    "\n",
    "in code..."
   ]
  },
  {
   "cell_type": "code",
   "execution_count": 7,
   "metadata": {},
   "outputs": [
    {
     "data": {
      "text/plain": [
       "False"
      ]
     },
     "execution_count": 7,
     "metadata": {},
     "output_type": "execute_result"
    }
   ],
   "source": [
    "#Alternate calculation\n",
    "pSB2 = pBoth/pBMW\n",
    "pSB2 == pSB"
   ]
  },
  {
   "cell_type": "markdown",
   "metadata": {},
   "source": [
    "#WHAT?????????????????????????????????????\n",
    "\n",
    "Probabilites often use fractions, while numbers are normally floating point (decimals). We can use some fractions to make it easier!"
   ]
  },
  {
   "cell_type": "code",
   "execution_count": 19,
   "metadata": {},
   "outputs": [
    {
     "name": "stdout",
     "output_type": "stream",
     "text": [
      "4/5\n"
     ]
    }
   ],
   "source": [
    "# Example: First number is numerator, second is denominator\n",
    "print(Fraction(4,5))"
   ]
  },
  {
   "cell_type": "code",
   "execution_count": 8,
   "metadata": {},
   "outputs": [
    {
     "name": "stdout",
     "output_type": "stream",
     "text": [
      "2/3\n"
     ]
    }
   ],
   "source": [
    "#Redo with fractions\n",
    "pBothF = Fraction(len(df[(df[\"Make\"]==\"BMW\") & (df[\"Stolen\"]==\"yes\")]), len(df))\n",
    "pBMWF = Fraction(len(df[df[\"Make\"]==\"BMW\"]), len(df))\n",
    "pSB2F = pBothF/pBMWF\n",
    "print(pSB2F) #The print thing tells the Fraction to look fractiony"
   ]
  },
  {
   "cell_type": "markdown",
   "metadata": {},
   "source": [
    "What about the other way around? If my car is stolen, what's the chances that it is a BMW?\n",
    "\n",
    "P(BMW | Stolen) = P(BMW & Stolen)/P(Stolen)"
   ]
  },
  {
   "cell_type": "code",
   "execution_count": 20,
   "metadata": {},
   "outputs": [
    {
     "name": "stdout",
     "output_type": "stream",
     "text": [
      "4/13\n",
      "0.3076923076923077\n"
     ]
    }
   ],
   "source": [
    "df_Stol = df[df[\"Stolen\"] == \"yes\"]\n",
    "pBS = Fraction(len(df_Stol[df_Stol[\"Make\"] == \"BMW\"]), len(df_Stol))\n",
    "pBSperctent = len(df_Stol[df_Stol[\"Make\"] == \"BMW\"])/ len(df_Stol)\n",
    "print(pBS)\n",
    "print(pBSperctent)"
   ]
  },
  {
   "cell_type": "markdown",
   "metadata": {},
   "source": [
    "Note - these two probabilities are different. The prob that a car is STOLEN and a BMW is the same as the prob it is a BMW and STOLEN. The probability that a car is stolen GIVEN it is a BMW is not the same as the probability that a car is a BMW given that it is stolen. \n",
    "\n",
    "We can manipulate what we did above by multiplying both sides by pBMW. We get:\n",
    "\n",
    "p(Stolen and BMW) = P(Stolen)*P(S|B)\n",
    "\n",
    "This is Theorem 2\n",
    "\n",
    "In nice print, generally: $$P(A~\\mathrm{and}~B) = P(B) ~ P(A|B)$$"
   ]
  },
  {
   "cell_type": "code",
   "execution_count": 10,
   "metadata": {},
   "outputs": [
    {
     "name": "stdout",
     "output_type": "stream",
     "text": [
      "1/5\n",
      "1/5\n"
     ]
    }
   ],
   "source": [
    "#Check\n",
    "print(pBothF)\n",
    "print(pBMWF*pSB2F)"
   ]
  },
  {
   "cell_type": "markdown",
   "metadata": {},
   "source": [
    "We know, from intuition and from above, that conjunctions (and) works in either direction: P(Stolen and BMW) = P(BMW and STOLEN)\n",
    "\n",
    "Written in general form:\n",
    "$$P(A~\\mathrm{and}~B) = P(B~\\mathrm{and}~A)$$\n",
    "\n",
    "If we apply Theorem 2 from above to both sides, we have: P(BMW)*P(STOLEN | BMW) = P(STOLEN)*P(BMW | STOLEN)\n",
    "\n",
    "Written in general form:\n",
    "$$P(B) P(A|B) = P(A) P(B|A)$$\n",
    "\n",
    "With this equation we can solve for whatever we don't know - like either conditional:\n",
    "\n",
    "1. You can check $B$ first, then $A$ conditioned on $B$, or\n",
    "\n",
    "2. You can check $A$ first, then $B$ conditioned on $A$.\n",
    "\n",
    "If we divide through by $P(B)$, we get Theorem 3:\n",
    "\n",
    "$$P(A|B) = \\frac{P(A) P(B|A)}{P(B)}$$\n",
    "\n",
    "That is Bayes's Theorem."
   ]
  },
  {
   "cell_type": "code",
   "execution_count": null,
   "metadata": {},
   "outputs": [],
   "source": [
    "# Prob of a car being red, given it is a Nissan. =\n",
    "# What is the prob that a Nissan is red."
   ]
  },
  {
   "cell_type": "code",
   "execution_count": 11,
   "metadata": {},
   "outputs": [
    {
     "name": "stdout",
     "output_type": "stream",
     "text": [
      "2/3\n"
     ]
    }
   ],
   "source": [
    "#Probability of stolen given that you have a BMW\n",
    "#First, get pStolen in fraction form\n",
    "pSF = Fraction(len(df[df[\"Stolen\"]==\"yes\"]), len(df))\n",
    "\n",
    "#Calculate numerator\n",
    "numerator = pSF*pBS\n",
    "\n",
    "print(numerator/pBMWF)"
   ]
  },
  {
   "cell_type": "markdown",
   "metadata": {},
   "source": [
    "### The Law of Total Probability\n",
    "\n",
    "In order to make all this stuff work, we need one other thing - the law of total probability.\n",
    "Here's one form of the law, expressed in mathematical notation:\n",
    "\n",
    "$$P(A) = P(B_1 \\mathrm{and} A) + P(B_2 \\mathrm{and} A)$$\n",
    "\n",
    "In words, this means two things:\n",
    "\n",
    "- The probabilities are mutually exclusive, only one can be true at a time.\n",
    "\n",
    "- The probabilites are exhaustive, they sum to 1. "
   ]
  },
  {
   "cell_type": "markdown",
   "metadata": {},
   "source": [
    "Bayes is useful because whichever condition we don't know can be calculated - it becomes much more useful when we don't have all the data, like we do here. More on that later. \n",
    "\n",
    "Another example...\n",
    "\n",
    "On the Titanic, what is the probability that someone who died is from third class? Let's set up our equation\n",
    "\n",
    "p(3rd | Dead) = p(3rd)*p(Dead | 3rd)/p(Dead)"
   ]
  },
  {
   "cell_type": "code",
   "execution_count": 21,
   "metadata": {},
   "outputs": [
    {
     "data": {
      "text/html": [
       "<div>\n",
       "<style scoped>\n",
       "    .dataframe tbody tr th:only-of-type {\n",
       "        vertical-align: middle;\n",
       "    }\n",
       "\n",
       "    .dataframe tbody tr th {\n",
       "        vertical-align: top;\n",
       "    }\n",
       "\n",
       "    .dataframe thead th {\n",
       "        text-align: right;\n",
       "    }\n",
       "</style>\n",
       "<table border=\"1\" class=\"dataframe\">\n",
       "  <thead>\n",
       "    <tr style=\"text-align: right;\">\n",
       "      <th></th>\n",
       "      <th>survived</th>\n",
       "      <th>pclass</th>\n",
       "      <th>sex</th>\n",
       "      <th>age</th>\n",
       "      <th>sibsp</th>\n",
       "      <th>parch</th>\n",
       "      <th>fare</th>\n",
       "      <th>embarked</th>\n",
       "      <th>class</th>\n",
       "      <th>who</th>\n",
       "      <th>adult_male</th>\n",
       "      <th>deck</th>\n",
       "      <th>embark_town</th>\n",
       "      <th>alive</th>\n",
       "      <th>alone</th>\n",
       "    </tr>\n",
       "  </thead>\n",
       "  <tbody>\n",
       "    <tr>\n",
       "      <th>0</th>\n",
       "      <td>0</td>\n",
       "      <td>3</td>\n",
       "      <td>male</td>\n",
       "      <td>22.0</td>\n",
       "      <td>1</td>\n",
       "      <td>0</td>\n",
       "      <td>7.2500</td>\n",
       "      <td>S</td>\n",
       "      <td>Third</td>\n",
       "      <td>man</td>\n",
       "      <td>True</td>\n",
       "      <td>NaN</td>\n",
       "      <td>Southampton</td>\n",
       "      <td>no</td>\n",
       "      <td>False</td>\n",
       "    </tr>\n",
       "    <tr>\n",
       "      <th>1</th>\n",
       "      <td>1</td>\n",
       "      <td>1</td>\n",
       "      <td>female</td>\n",
       "      <td>38.0</td>\n",
       "      <td>1</td>\n",
       "      <td>0</td>\n",
       "      <td>71.2833</td>\n",
       "      <td>C</td>\n",
       "      <td>First</td>\n",
       "      <td>woman</td>\n",
       "      <td>False</td>\n",
       "      <td>C</td>\n",
       "      <td>Cherbourg</td>\n",
       "      <td>yes</td>\n",
       "      <td>False</td>\n",
       "    </tr>\n",
       "    <tr>\n",
       "      <th>2</th>\n",
       "      <td>1</td>\n",
       "      <td>3</td>\n",
       "      <td>female</td>\n",
       "      <td>26.0</td>\n",
       "      <td>0</td>\n",
       "      <td>0</td>\n",
       "      <td>7.9250</td>\n",
       "      <td>S</td>\n",
       "      <td>Third</td>\n",
       "      <td>woman</td>\n",
       "      <td>False</td>\n",
       "      <td>NaN</td>\n",
       "      <td>Southampton</td>\n",
       "      <td>yes</td>\n",
       "      <td>True</td>\n",
       "    </tr>\n",
       "    <tr>\n",
       "      <th>3</th>\n",
       "      <td>1</td>\n",
       "      <td>1</td>\n",
       "      <td>female</td>\n",
       "      <td>35.0</td>\n",
       "      <td>1</td>\n",
       "      <td>0</td>\n",
       "      <td>53.1000</td>\n",
       "      <td>S</td>\n",
       "      <td>First</td>\n",
       "      <td>woman</td>\n",
       "      <td>False</td>\n",
       "      <td>C</td>\n",
       "      <td>Southampton</td>\n",
       "      <td>yes</td>\n",
       "      <td>False</td>\n",
       "    </tr>\n",
       "    <tr>\n",
       "      <th>4</th>\n",
       "      <td>0</td>\n",
       "      <td>3</td>\n",
       "      <td>male</td>\n",
       "      <td>35.0</td>\n",
       "      <td>0</td>\n",
       "      <td>0</td>\n",
       "      <td>8.0500</td>\n",
       "      <td>S</td>\n",
       "      <td>Third</td>\n",
       "      <td>man</td>\n",
       "      <td>True</td>\n",
       "      <td>NaN</td>\n",
       "      <td>Southampton</td>\n",
       "      <td>no</td>\n",
       "      <td>True</td>\n",
       "    </tr>\n",
       "  </tbody>\n",
       "</table>\n",
       "</div>"
      ],
      "text/plain": [
       "   survived  pclass     sex   age  sibsp  parch     fare embarked  class  \\\n",
       "0         0       3    male  22.0      1      0   7.2500        S  Third   \n",
       "1         1       1  female  38.0      1      0  71.2833        C  First   \n",
       "2         1       3  female  26.0      0      0   7.9250        S  Third   \n",
       "3         1       1  female  35.0      1      0  53.1000        S  First   \n",
       "4         0       3    male  35.0      0      0   8.0500        S  Third   \n",
       "\n",
       "     who  adult_male deck  embark_town alive  alone  \n",
       "0    man        True  NaN  Southampton    no  False  \n",
       "1  woman       False    C    Cherbourg   yes  False  \n",
       "2  woman       False  NaN  Southampton   yes   True  \n",
       "3  woman       False    C  Southampton   yes  False  \n",
       "4    man        True  NaN  Southampton    no   True  "
      ]
     },
     "execution_count": 21,
     "metadata": {},
     "output_type": "execute_result"
    }
   ],
   "source": [
    "#The titanic is built into Seaborn, to make it easy.\n",
    "titanic = sns.load_dataset('titanic')\n",
    "titanic.head()"
   ]
  },
  {
   "cell_type": "code",
   "execution_count": 13,
   "metadata": {},
   "outputs": [],
   "source": [
    "#Calculate some fractions\n",
    "pD = Fraction(len(titanic[\"survived\"] == False),len(titanic))\n",
    "p3 = Fraction(len(titanic[\"class\"] == 3),len(titanic))\n",
    "tmp = titanic[titanic[\"pclass\"] == 3]\n",
    "pD3 = Fraction((tmp[\"survived\"]==False).sum(), len(tmp))\n"
   ]
  },
  {
   "cell_type": "code",
   "execution_count": 14,
   "metadata": {},
   "outputs": [
    {
     "name": "stdout",
     "output_type": "stream",
     "text": [
      "372/491\n"
     ]
    }
   ],
   "source": [
    "print((pD3*p3)/pD)"
   ]
  },
  {
   "cell_type": "markdown",
   "metadata": {},
   "source": [
    "Damn, that's tuff. \n",
    "\n",
    "So, if you're going on a boat, be rich! "
   ]
  },
  {
   "cell_type": "code",
   "execution_count": null,
   "metadata": {},
   "outputs": [],
   "source": [
    "#What is the probability of your car being stolen if it is a Nissan\n",
    "\n",
    "pStolen = Fraction(len(df[\"Stolen\"] == 'yes'), len(df))\n",
    "pNissan = Fraction(len(df[\"Make\"] == 'Nissan'), len(df))\n",
    "tmp1 = df[df[\"Make\"] == 'Nissan']\n",
    "pSN = Fraction((tmp1[\"Stolen\"]==True).sum(), len(tmp1))\n",
    "\n"
   ]
  },
  {
   "cell_type": "markdown",
   "metadata": {},
   "source": [
    "P(Stolen | German) = P(German|Stolen)/P(German)"
   ]
  },
  {
   "cell_type": "code",
   "execution_count": 39,
   "metadata": {},
   "outputs": [
    {
     "name": "stdout",
     "output_type": "stream",
     "text": [
      "2/3\n"
     ]
    }
   ],
   "source": [
    "print((pSF*pGermanStolen)/pGerman)"
   ]
  },
  {
   "cell_type": "code",
   "execution_count": 37,
   "metadata": {},
   "outputs": [
    {
     "name": "stdout",
     "output_type": "stream",
     "text": [
      "8/13\n"
     ]
    }
   ],
   "source": [
    "#What is the probability of your car being stolen if it is German (i.e. BMW or Audi)\n",
    "\n",
    "# P(Stolen) = pSF\n",
    "# P(German) = P(Audi or BMW) = P(BMW) + P(Audi)\n",
    "\n",
    "pAudi = Fraction(len(df[df[\"Make\"] == \"Audi\"]), len(df))\n",
    "pGerman = pAudi + pBMWF\n",
    "pGerman\n",
    "\n",
    "tmpdf = df[df[\"Stolen\"] ==\"yes\"]\n",
    "tmpBMW = Fraction(len(tmpdf[tmpdf[\"Make\"]==\"BMW\"]), len(tmpdf))\n",
    "tmpAudi = Fraction(len(tmpdf[tmpdf[\"Make\"]==\"Audi\"]), len(tmpdf))\n",
    "\n",
    "pGermanStolen = tmpBMW + tmpAudi\n",
    "print(pGermanStolen)"
   ]
  },
  {
   "cell_type": "code",
   "execution_count": 17,
   "metadata": {},
   "outputs": [],
   "source": [
    "#What is the probability of a theft happening at night?"
   ]
  },
  {
   "cell_type": "markdown",
   "metadata": {},
   "source": [
    "As we can see above, when we have all the data, we can calculate all the probabilities directly. Bayes is more useful when we don't have all that. That's next time... Something to consider....\n",
    "\n",
    "\n",
    "## The Monty Hall Problem\n",
    "\n",
    "The Monty Hall problem is based on a game show called *Let's Make a Deal*. If you are a contestant on the show, here's how the game works:\n",
    "\n",
    "* The host, Monty Hall, shows you three closed doors -- numbered 1, 2, and 3 -- and tells you that there is a prize behind each door.\n",
    "\n",
    "* One prize is valuable (traditionally a car), the other two are less valuable (traditionally goats).\n",
    "\n",
    "* The object of the game is to guess which door has the car. If you guess right, you get to keep the car.\n",
    "\n",
    "The key - after you pick a door, Monty will open another, revealing a goat. Then Monty offers you the option to stick with your original choice or switch to the remaining unopened door.\n",
    "\n",
    "Do you switch?"
   ]
  }
 ],
 "metadata": {
  "interpreter": {
   "hash": "dcdad51ea26ba3fa3a3f192d37806639520de8521c8287e89f3af19647ab8ba9"
  },
  "kernelspec": {
   "display_name": "Python 3.8.8 64-bit ('base': conda)",
   "name": "python3"
  },
  "language_info": {
   "codemirror_mode": {
    "name": "ipython",
    "version": 3
   },
   "file_extension": ".py",
   "mimetype": "text/x-python",
   "name": "python",
   "nbconvert_exporter": "python",
   "pygments_lexer": "ipython3",
   "version": "3.8.8"
  },
  "orig_nbformat": 4
 },
 "nbformat": 4,
 "nbformat_minor": 2
}
